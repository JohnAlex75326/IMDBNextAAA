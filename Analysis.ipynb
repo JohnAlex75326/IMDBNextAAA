{
 "cells": [
  {
   "cell_type": "markdown",
   "id": "443fd1d6",
   "metadata": {},
   "source": [
    "# The Search for the Next AAA Title"
   ]
  },
  {
   "cell_type": "markdown",
   "id": "43488f23",
   "metadata": {},
   "source": [
    "# Highest Rated Movie in 2020"
   ]
  },
  {
   "cell_type": "code",
   "execution_count": 1,
   "id": "6617b3fd",
   "metadata": {},
   "outputs": [],
   "source": [
    "import pandas as pd"
   ]
  },
  {
   "cell_type": "code",
   "execution_count": null,
   "id": "461e78bd",
   "metadata": {},
   "outputs": [],
   "source": [
    "#define dataset\n",
    "title_basics_path = \"title.basics.tsv.gz\"\n",
    "title_ratings_path = \"title.ratings.tsv.gz\""
   ]
  },
  {
   "cell_type": "code",
   "execution_count": 3,
   "id": "880a67c0",
   "metadata": {},
   "outputs": [],
   "source": [
    "# Load the datasets\n",
    "title_basics = pd.read_csv(title_basics_path, sep=\"\\t\", compression=\"gzip\", dtype=str, na_values=\"\\\\N\")\n",
    "title_ratings = pd.read_csv(title_ratings_path, sep=\"\\t\", compression=\"gzip\", dtype={\"tconst\": str, \"averageRating\": float, \"numVotes\": int})"
   ]
  },
  {
   "cell_type": "code",
   "execution_count": 4,
   "id": "7129acb2",
   "metadata": {},
   "outputs": [],
   "source": [
    "#filter to 2020 movies\n",
    "movies_2020 = title_basics[(title_basics[\"titleType\"] == \"movie\") & (title_basics[\"startYear\"] == \"2020\")]"
   ]
  },
  {
   "cell_type": "code",
   "execution_count": 12,
   "id": "44d9b583",
   "metadata": {},
   "outputs": [
    {
     "data": {
      "text/html": [
       "<div>\n",
       "<style scoped>\n",
       "    .dataframe tbody tr th:only-of-type {\n",
       "        vertical-align: middle;\n",
       "    }\n",
       "\n",
       "    .dataframe tbody tr th {\n",
       "        vertical-align: top;\n",
       "    }\n",
       "\n",
       "    .dataframe thead th {\n",
       "        text-align: right;\n",
       "    }\n",
       "</style>\n",
       "<table border=\"1\" class=\"dataframe\">\n",
       "  <thead>\n",
       "    <tr style=\"text-align: right;\">\n",
       "      <th></th>\n",
       "      <th>tconst</th>\n",
       "      <th>titleType</th>\n",
       "      <th>primaryTitle</th>\n",
       "      <th>originalTitle</th>\n",
       "      <th>isAdult</th>\n",
       "      <th>startYear</th>\n",
       "      <th>endYear</th>\n",
       "      <th>runtimeMinutes</th>\n",
       "      <th>genres</th>\n",
       "      <th>averageRating</th>\n",
       "      <th>numVotes</th>\n",
       "    </tr>\n",
       "  </thead>\n",
       "  <tbody>\n",
       "    <tr>\n",
       "      <th>221</th>\n",
       "      <td>tt10261560</td>\n",
       "      <td>movie</td>\n",
       "      <td>Coffee Heroes</td>\n",
       "      <td>Coffee Heroes</td>\n",
       "      <td>0</td>\n",
       "      <td>2020</td>\n",
       "      <td>NaN</td>\n",
       "      <td>120</td>\n",
       "      <td>Documentary</td>\n",
       "      <td>10.0</td>\n",
       "      <td>6</td>\n",
       "    </tr>\n",
       "    <tr>\n",
       "      <th>7105</th>\n",
       "      <td>tt5653236</td>\n",
       "      <td>movie</td>\n",
       "      <td>Out There</td>\n",
       "      <td>Out There</td>\n",
       "      <td>0</td>\n",
       "      <td>2020</td>\n",
       "      <td>NaN</td>\n",
       "      <td>112</td>\n",
       "      <td>Drama</td>\n",
       "      <td>10.0</td>\n",
       "      <td>5</td>\n",
       "    </tr>\n",
       "    <tr>\n",
       "      <th>2580</th>\n",
       "      <td>tt11991076</td>\n",
       "      <td>movie</td>\n",
       "      <td>For the Children, by the Children</td>\n",
       "      <td>For the Children, by the Children</td>\n",
       "      <td>0</td>\n",
       "      <td>2020</td>\n",
       "      <td>NaN</td>\n",
       "      <td>NaN</td>\n",
       "      <td>Documentary</td>\n",
       "      <td>9.9</td>\n",
       "      <td>11</td>\n",
       "    </tr>\n",
       "    <tr>\n",
       "      <th>5059</th>\n",
       "      <td>tt13388966</td>\n",
       "      <td>movie</td>\n",
       "      <td>A Better Life</td>\n",
       "      <td>A Better Life</td>\n",
       "      <td>0</td>\n",
       "      <td>2020</td>\n",
       "      <td>NaN</td>\n",
       "      <td>92</td>\n",
       "      <td>Drama</td>\n",
       "      <td>9.8</td>\n",
       "      <td>66</td>\n",
       "    </tr>\n",
       "    <tr>\n",
       "      <th>5771</th>\n",
       "      <td>tt13925132</td>\n",
       "      <td>movie</td>\n",
       "      <td>The Choice of Staying</td>\n",
       "      <td>The Choice of Staying</td>\n",
       "      <td>0</td>\n",
       "      <td>2020</td>\n",
       "      <td>NaN</td>\n",
       "      <td>48</td>\n",
       "      <td>Documentary</td>\n",
       "      <td>9.8</td>\n",
       "      <td>60</td>\n",
       "    </tr>\n",
       "  </tbody>\n",
       "</table>\n",
       "</div>"
      ],
      "text/plain": [
       "          tconst titleType                       primaryTitle  \\\n",
       "221   tt10261560     movie                      Coffee Heroes   \n",
       "7105   tt5653236     movie                          Out There   \n",
       "2580  tt11991076     movie  For the Children, by the Children   \n",
       "5059  tt13388966     movie                      A Better Life   \n",
       "5771  tt13925132     movie              The Choice of Staying   \n",
       "\n",
       "                          originalTitle isAdult startYear endYear  \\\n",
       "221                       Coffee Heroes       0      2020     NaN   \n",
       "7105                          Out There       0      2020     NaN   \n",
       "2580  For the Children, by the Children       0      2020     NaN   \n",
       "5059                      A Better Life       0      2020     NaN   \n",
       "5771              The Choice of Staying       0      2020     NaN   \n",
       "\n",
       "     runtimeMinutes       genres  averageRating  numVotes  \n",
       "221             120  Documentary           10.0         6  \n",
       "7105            112        Drama           10.0         5  \n",
       "2580            NaN  Documentary            9.9        11  \n",
       "5059             92        Drama            9.8        66  \n",
       "5771             48  Documentary            9.8        60  "
      ]
     },
     "execution_count": 12,
     "metadata": {},
     "output_type": "execute_result"
    }
   ],
   "source": [
    "#inner work\n",
    "# Merge with ratings\n",
    "movies_2020_rated = pd.merge(movies_2020, title_ratings, on=\"tconst\")\n",
    "movies_2020_ratedb = pd.merge(movies_2020, title_ratings, on=\"tconst\")\n",
    "\n",
    "### Filter for movies with at least 1000 votes ####\n",
    "movies_2020_rated = movies_2020_rated[movies_2020_rated[\"numVotes\"] >= 1000]\n",
    "\n",
    "top_movie2 = movies_2020_ratedb.sort_values(by=[\"averageRating\", \"numVotes\"], ascending=[False, False])\n",
    "\n",
    "top_movie2.head(5)"
   ]
  },
  {
   "cell_type": "code",
   "execution_count": null,
   "id": "7e687890",
   "metadata": {},
   "outputs": [
    {
     "data": {
      "text/html": [
       "<div>\n",
       "<style scoped>\n",
       "    .dataframe tbody tr th:only-of-type {\n",
       "        vertical-align: middle;\n",
       "    }\n",
       "\n",
       "    .dataframe tbody tr th {\n",
       "        vertical-align: top;\n",
       "    }\n",
       "\n",
       "    .dataframe thead th {\n",
       "        text-align: right;\n",
       "    }\n",
       "</style>\n",
       "<table border=\"1\" class=\"dataframe\">\n",
       "  <thead>\n",
       "    <tr style=\"text-align: right;\">\n",
       "      <th></th>\n",
       "      <th>tconst</th>\n",
       "      <th>titleType</th>\n",
       "      <th>primaryTitle</th>\n",
       "      <th>originalTitle</th>\n",
       "      <th>isAdult</th>\n",
       "      <th>startYear</th>\n",
       "      <th>endYear</th>\n",
       "      <th>runtimeMinutes</th>\n",
       "      <th>genres</th>\n",
       "      <th>averageRating</th>\n",
       "      <th>numVotes</th>\n",
       "    </tr>\n",
       "  </thead>\n",
       "  <tbody>\n",
       "    <tr>\n",
       "      <th>6166</th>\n",
       "      <td>tt14888874</td>\n",
       "      <td>movie</td>\n",
       "      <td>Demon Slayer: Kimetsu no Yaiba - Mt. Natagumo Arc</td>\n",
       "      <td>Kimetsu no Yaiba: Natagumo Yama-hen</td>\n",
       "      <td>0</td>\n",
       "      <td>2020</td>\n",
       "      <td>NaN</td>\n",
       "      <td>138</td>\n",
       "      <td>Action,Animation,Fantasy</td>\n",
       "      <td>8.7</td>\n",
       "      <td>17590</td>\n",
       "    </tr>\n",
       "    <tr>\n",
       "      <th>148</th>\n",
       "      <td>tt10189514</td>\n",
       "      <td>movie</td>\n",
       "      <td>Soorarai Pottru</td>\n",
       "      <td>Soorarai Pottru</td>\n",
       "      <td>0</td>\n",
       "      <td>2020</td>\n",
       "      <td>NaN</td>\n",
       "      <td>153</td>\n",
       "      <td>Drama</td>\n",
       "      <td>8.6</td>\n",
       "      <td>128768</td>\n",
       "    </tr>\n",
       "    <tr>\n",
       "      <th>2053</th>\n",
       "      <td>tt11737772</td>\n",
       "      <td>movie</td>\n",
       "      <td>Chal Mera Putt 2</td>\n",
       "      <td>Chal Mera Putt 2</td>\n",
       "      <td>0</td>\n",
       "      <td>2020</td>\n",
       "      <td>NaN</td>\n",
       "      <td>124</td>\n",
       "      <td>Drama</td>\n",
       "      <td>8.5</td>\n",
       "      <td>3641</td>\n",
       "    </tr>\n",
       "    <tr>\n",
       "      <th>3998</th>\n",
       "      <td>tt12865416</td>\n",
       "      <td>movie</td>\n",
       "      <td>30 Years and 15 Minutes</td>\n",
       "      <td>30 de ani si 15 minute</td>\n",
       "      <td>0</td>\n",
       "      <td>2020</td>\n",
       "      <td>NaN</td>\n",
       "      <td>95</td>\n",
       "      <td>Animation,Documentary</td>\n",
       "      <td>8.5</td>\n",
       "      <td>2724</td>\n",
       "    </tr>\n",
       "    <tr>\n",
       "      <th>5216</th>\n",
       "      <td>tt13458600</td>\n",
       "      <td>movie</td>\n",
       "      <td>Emicida: AmarElo - It's All for Yesterday</td>\n",
       "      <td>Emicida: AmarElo - It's All for Yesterday</td>\n",
       "      <td>0</td>\n",
       "      <td>2020</td>\n",
       "      <td>NaN</td>\n",
       "      <td>89</td>\n",
       "      <td>Documentary,Music</td>\n",
       "      <td>8.5</td>\n",
       "      <td>1693</td>\n",
       "    </tr>\n",
       "  </tbody>\n",
       "</table>\n",
       "</div>"
      ],
      "text/plain": [
       "          tconst titleType                                       primaryTitle  \\\n",
       "6166  tt14888874     movie  Demon Slayer: Kimetsu no Yaiba - Mt. Natagumo Arc   \n",
       "148   tt10189514     movie                                    Soorarai Pottru   \n",
       "2053  tt11737772     movie                                   Chal Mera Putt 2   \n",
       "3998  tt12865416     movie                            30 Years and 15 Minutes   \n",
       "5216  tt13458600     movie          Emicida: AmarElo - It's All for Yesterday   \n",
       "\n",
       "                                  originalTitle isAdult startYear endYear  \\\n",
       "6166        Kimetsu no Yaiba: Natagumo Yama-hen       0      2020     NaN   \n",
       "148                             Soorarai Pottru       0      2020     NaN   \n",
       "2053                           Chal Mera Putt 2       0      2020     NaN   \n",
       "3998                     30 de ani si 15 minute       0      2020     NaN   \n",
       "5216  Emicida: AmarElo - It's All for Yesterday       0      2020     NaN   \n",
       "\n",
       "     runtimeMinutes                    genres  averageRating  numVotes  \n",
       "6166            138  Action,Animation,Fantasy            8.7     17590  \n",
       "148             153                     Drama            8.6    128768  \n",
       "2053            124                     Drama            8.5      3641  \n",
       "3998             95     Animation,Documentary            8.5      2724  \n",
       "5216             89         Documentary,Music            8.5      1693  "
      ]
     },
     "execution_count": 8,
     "metadata": {},
     "output_type": "execute_result"
    }
   ],
   "source": [
    "# Get the top-rated movie in 2020 (balanced by numVotes)\n",
    "top_movie = movies_2020_rated.sort_values(by=[\"averageRating\", \"numVotes\"], ascending=[False, False]).head(5)\n",
    "\n",
    "top_movie.head(5)"
   ]
  },
  {
   "cell_type": "code",
   "execution_count": 9,
   "id": "21cb1cc9",
   "metadata": {},
   "outputs": [
    {
     "data": {
      "text/html": [
       "<div>\n",
       "<style scoped>\n",
       "    .dataframe tbody tr th:only-of-type {\n",
       "        vertical-align: middle;\n",
       "    }\n",
       "\n",
       "    .dataframe tbody tr th {\n",
       "        vertical-align: top;\n",
       "    }\n",
       "\n",
       "    .dataframe thead th {\n",
       "        text-align: right;\n",
       "    }\n",
       "</style>\n",
       "<table border=\"1\" class=\"dataframe\">\n",
       "  <thead>\n",
       "    <tr style=\"text-align: right;\">\n",
       "      <th></th>\n",
       "      <th>genres</th>\n",
       "      <th>averageRating</th>\n",
       "    </tr>\n",
       "  </thead>\n",
       "  <tbody>\n",
       "    <tr>\n",
       "      <th>18</th>\n",
       "      <td>News</td>\n",
       "      <td>7.214516</td>\n",
       "    </tr>\n",
       "    <tr>\n",
       "      <th>7</th>\n",
       "      <td>Documentary</td>\n",
       "      <td>7.207689</td>\n",
       "    </tr>\n",
       "    <tr>\n",
       "      <th>4</th>\n",
       "      <td>Biography</td>\n",
       "      <td>6.930923</td>\n",
       "    </tr>\n",
       "    <tr>\n",
       "      <th>12</th>\n",
       "      <td>Game-Show</td>\n",
       "      <td>6.783333</td>\n",
       "    </tr>\n",
       "    <tr>\n",
       "      <th>13</th>\n",
       "      <td>History</td>\n",
       "      <td>6.780296</td>\n",
       "    </tr>\n",
       "    <tr>\n",
       "      <th>15</th>\n",
       "      <td>Music</td>\n",
       "      <td>6.754116</td>\n",
       "    </tr>\n",
       "    <tr>\n",
       "      <th>22</th>\n",
       "      <td>Sport</td>\n",
       "      <td>6.615464</td>\n",
       "    </tr>\n",
       "    <tr>\n",
       "      <th>19</th>\n",
       "      <td>Reality-TV</td>\n",
       "      <td>6.501087</td>\n",
       "    </tr>\n",
       "    <tr>\n",
       "      <th>11</th>\n",
       "      <td>Film-Noir</td>\n",
       "      <td>6.446712</td>\n",
       "    </tr>\n",
       "    <tr>\n",
       "      <th>25</th>\n",
       "      <td>War</td>\n",
       "      <td>6.363640</td>\n",
       "    </tr>\n",
       "    <tr>\n",
       "      <th>23</th>\n",
       "      <td>Talk-Show</td>\n",
       "      <td>6.339286</td>\n",
       "    </tr>\n",
       "    <tr>\n",
       "      <th>3</th>\n",
       "      <td>Animation</td>\n",
       "      <td>6.327184</td>\n",
       "    </tr>\n",
       "    <tr>\n",
       "      <th>8</th>\n",
       "      <td>Drama</td>\n",
       "      <td>6.208484</td>\n",
       "    </tr>\n",
       "    <tr>\n",
       "      <th>16</th>\n",
       "      <td>Musical</td>\n",
       "      <td>6.170688</td>\n",
       "    </tr>\n",
       "    <tr>\n",
       "      <th>9</th>\n",
       "      <td>Family</td>\n",
       "      <td>6.160743</td>\n",
       "    </tr>\n",
       "    <tr>\n",
       "      <th>20</th>\n",
       "      <td>Romance</td>\n",
       "      <td>6.082809</td>\n",
       "    </tr>\n",
       "    <tr>\n",
       "      <th>6</th>\n",
       "      <td>Crime</td>\n",
       "      <td>5.969515</td>\n",
       "    </tr>\n",
       "    <tr>\n",
       "      <th>5</th>\n",
       "      <td>Comedy</td>\n",
       "      <td>5.883198</td>\n",
       "    </tr>\n",
       "    <tr>\n",
       "      <th>26</th>\n",
       "      <td>Western</td>\n",
       "      <td>5.867903</td>\n",
       "    </tr>\n",
       "    <tr>\n",
       "      <th>2</th>\n",
       "      <td>Adventure</td>\n",
       "      <td>5.854020</td>\n",
       "    </tr>\n",
       "    <tr>\n",
       "      <th>10</th>\n",
       "      <td>Fantasy</td>\n",
       "      <td>5.826372</td>\n",
       "    </tr>\n",
       "    <tr>\n",
       "      <th>17</th>\n",
       "      <td>Mystery</td>\n",
       "      <td>5.813167</td>\n",
       "    </tr>\n",
       "    <tr>\n",
       "      <th>0</th>\n",
       "      <td>Action</td>\n",
       "      <td>5.730191</td>\n",
       "    </tr>\n",
       "    <tr>\n",
       "      <th>24</th>\n",
       "      <td>Thriller</td>\n",
       "      <td>5.598730</td>\n",
       "    </tr>\n",
       "    <tr>\n",
       "      <th>1</th>\n",
       "      <td>Adult</td>\n",
       "      <td>5.550145</td>\n",
       "    </tr>\n",
       "    <tr>\n",
       "      <th>21</th>\n",
       "      <td>Sci-Fi</td>\n",
       "      <td>5.321328</td>\n",
       "    </tr>\n",
       "    <tr>\n",
       "      <th>14</th>\n",
       "      <td>Horror</td>\n",
       "      <td>4.970264</td>\n",
       "    </tr>\n",
       "  </tbody>\n",
       "</table>\n",
       "</div>"
      ],
      "text/plain": [
       "         genres  averageRating\n",
       "18         News       7.214516\n",
       "7   Documentary       7.207689\n",
       "4     Biography       6.930923\n",
       "12    Game-Show       6.783333\n",
       "13      History       6.780296\n",
       "15        Music       6.754116\n",
       "22        Sport       6.615464\n",
       "19   Reality-TV       6.501087\n",
       "11    Film-Noir       6.446712\n",
       "25          War       6.363640\n",
       "23    Talk-Show       6.339286\n",
       "3     Animation       6.327184\n",
       "8         Drama       6.208484\n",
       "16      Musical       6.170688\n",
       "9        Family       6.160743\n",
       "20      Romance       6.082809\n",
       "6         Crime       5.969515\n",
       "5        Comedy       5.883198\n",
       "26      Western       5.867903\n",
       "2     Adventure       5.854020\n",
       "10      Fantasy       5.826372\n",
       "17      Mystery       5.813167\n",
       "0        Action       5.730191\n",
       "24     Thriller       5.598730\n",
       "1         Adult       5.550145\n",
       "21       Sci-Fi       5.321328\n",
       "14       Horror       4.970264"
      ]
     },
     "execution_count": 9,
     "metadata": {},
     "output_type": "execute_result"
    }
   ],
   "source": [
    "#Genres Performance\n",
    "# Step 1: Import necessary libraries\n",
    "import pandas as pd\n",
    "\n",
    "# Step 2: Load the data\n",
    "title_basics_path = \"title.basics.tsv.gz\"\n",
    "title_ratings_path = \"title.ratings.tsv.gz\"\n",
    "\n",
    "# Load the datasets\n",
    "title_basics = pd.read_csv(title_basics_path, sep=\"\\t\", compression=\"gzip\", dtype=str, na_values=\"\\\\N\")\n",
    "title_ratings = pd.read_csv(title_ratings_path, sep=\"\\t\", compression=\"gzip\", dtype={\"tconst\": str, \"averageRating\": float, \"numVotes\": int})\n",
    "\n",
    "# Step 3: Filter to movies only\n",
    "movies = title_basics[title_basics[\"titleType\"] == \"movie\"]\n",
    "\n",
    "# Step 4: Merge with ratings\n",
    "movies_rated = pd.merge(movies, title_ratings, on=\"tconst\")\n",
    "\n",
    "# Step 5: Drop rows with missing genres\n",
    "movies_rated = movies_rated.dropna(subset=[\"genres\"])\n",
    "\n",
    "# Step 6: Split genres and explode into multiple rows\n",
    "movies_rated[\"genres\"] = movies_rated[\"genres\"].str.split(\",\")\n",
    "movies_exploded = movies_rated.explode(\"genres\")\n",
    "\n",
    "# Step 7: Group by genre and calculate average rating\n",
    "avg_rating_per_genre = movies_exploded.groupby(\"genres\")[\"averageRating\"].mean().reset_index()\n",
    "\n",
    "# Step 8: Sort by average rating\n",
    "avg_rating_per_genre = avg_rating_per_genre.sort_values(by=\"averageRating\", ascending=False)\n",
    "\n",
    "# Step 9: Display the result\n",
    "avg_rating_per_genre"
   ]
  },
  {
   "cell_type": "markdown",
   "id": "dc676fa8",
   "metadata": {},
   "source": [
    "# Bayesian Average\n",
    "## The Bayesian Average is better for scenarios like IMDB to account for uncertainty due to small sample sizess"
   ]
  },
  {
   "cell_type": "markdown",
   "id": "7beedad8",
   "metadata": {},
   "source": [
    "## Formula\n",
    "\n",
    "## WR = (v / (v + m)) * R + (m / (v + m)) * C\n",
    "\n",
    "## WR = Weighted Rating\n",
    "\n",
    "## R = Average rating of the movie\n",
    "\n",
    "## v = Number of votes for the movie\n",
    "\n",
    "## m = Minimum votes required to be listed (e.g. 1000)\n",
    "\n",
    "## C = Mean vote across all movies"
   ]
  },
  {
   "cell_type": "code",
   "execution_count": 14,
   "id": "eba427fb",
   "metadata": {},
   "outputs": [
    {
     "data": {
      "text/html": [
       "<div>\n",
       "<style scoped>\n",
       "    .dataframe tbody tr th:only-of-type {\n",
       "        vertical-align: middle;\n",
       "    }\n",
       "\n",
       "    .dataframe tbody tr th {\n",
       "        vertical-align: top;\n",
       "    }\n",
       "\n",
       "    .dataframe thead th {\n",
       "        text-align: right;\n",
       "    }\n",
       "</style>\n",
       "<table border=\"1\" class=\"dataframe\">\n",
       "  <thead>\n",
       "    <tr style=\"text-align: right;\">\n",
       "      <th></th>\n",
       "      <th>tconst</th>\n",
       "      <th>titleType</th>\n",
       "      <th>primaryTitle</th>\n",
       "      <th>originalTitle</th>\n",
       "      <th>isAdult</th>\n",
       "      <th>startYear</th>\n",
       "      <th>endYear</th>\n",
       "      <th>runtimeMinutes</th>\n",
       "      <th>genres</th>\n",
       "      <th>averageRating</th>\n",
       "      <th>numVotes</th>\n",
       "      <th>weightedRating</th>\n",
       "    </tr>\n",
       "  </thead>\n",
       "  <tbody>\n",
       "    <tr>\n",
       "      <th>6166</th>\n",
       "      <td>tt14888874</td>\n",
       "      <td>movie</td>\n",
       "      <td>Demon Slayer: Kimetsu no Yaiba - Mt. Natagumo Arc</td>\n",
       "      <td>Kimetsu no Yaiba: Natagumo Yama-hen</td>\n",
       "      <td>0</td>\n",
       "      <td>2020</td>\n",
       "      <td>NaN</td>\n",
       "      <td>138</td>\n",
       "      <td>Action,Animation,Fantasy</td>\n",
       "      <td>8.7</td>\n",
       "      <td>17590</td>\n",
       "      <td>8.653732</td>\n",
       "    </tr>\n",
       "    <tr>\n",
       "      <th>148</th>\n",
       "      <td>tt10189514</td>\n",
       "      <td>movie</td>\n",
       "      <td>Soorarai Pottru</td>\n",
       "      <td>Soorarai Pottru</td>\n",
       "      <td>0</td>\n",
       "      <td>2020</td>\n",
       "      <td>NaN</td>\n",
       "      <td>153</td>\n",
       "      <td>Drama</td>\n",
       "      <td>8.6</td>\n",
       "      <td>128768</td>\n",
       "      <td>8.593901</td>\n",
       "    </tr>\n",
       "    <tr>\n",
       "      <th>3241</th>\n",
       "      <td>tt12415546</td>\n",
       "      <td>movie</td>\n",
       "      <td>Attack on Titan: Chronicle</td>\n",
       "      <td>Shingeki no Kyojin: Chronicle</td>\n",
       "      <td>0</td>\n",
       "      <td>2020</td>\n",
       "      <td>NaN</td>\n",
       "      <td>122</td>\n",
       "      <td>Action,Adventure,Animation</td>\n",
       "      <td>8.4</td>\n",
       "      <td>12517</td>\n",
       "      <td>8.346682</td>\n",
       "    </tr>\n",
       "    <tr>\n",
       "      <th>2053</th>\n",
       "      <td>tt11737772</td>\n",
       "      <td>movie</td>\n",
       "      <td>Chal Mera Putt 2</td>\n",
       "      <td>Chal Mera Putt 2</td>\n",
       "      <td>0</td>\n",
       "      <td>2020</td>\n",
       "      <td>NaN</td>\n",
       "      <td>124</td>\n",
       "      <td>Drama</td>\n",
       "      <td>8.5</td>\n",
       "      <td>3641</td>\n",
       "      <td>8.320175</td>\n",
       "    </tr>\n",
       "    <tr>\n",
       "      <th>7879</th>\n",
       "      <td>tt8110330</td>\n",
       "      <td>movie</td>\n",
       "      <td>Dil Bechara</td>\n",
       "      <td>Dil Bechara</td>\n",
       "      <td>0</td>\n",
       "      <td>2020</td>\n",
       "      <td>NaN</td>\n",
       "      <td>101</td>\n",
       "      <td>Comedy,Drama,Romance</td>\n",
       "      <td>8.3</td>\n",
       "      <td>136500</td>\n",
       "      <td>8.295290</td>\n",
       "    </tr>\n",
       "    <tr>\n",
       "      <th>8079</th>\n",
       "      <td>tt8503618</td>\n",
       "      <td>movie</td>\n",
       "      <td>Hamilton</td>\n",
       "      <td>Hamilton</td>\n",
       "      <td>0</td>\n",
       "      <td>2020</td>\n",
       "      <td>NaN</td>\n",
       "      <td>160</td>\n",
       "      <td>Biography,Drama,History</td>\n",
       "      <td>8.3</td>\n",
       "      <td>130455</td>\n",
       "      <td>8.295073</td>\n",
       "    </tr>\n",
       "    <tr>\n",
       "      <th>5332</th>\n",
       "      <td>tt13524234</td>\n",
       "      <td>movie</td>\n",
       "      <td>Taylor Swift: Folklore: The Long Pond Studio S...</td>\n",
       "      <td>Taylor Swift: Folklore - The Long Pond Studio ...</td>\n",
       "      <td>0</td>\n",
       "      <td>2020</td>\n",
       "      <td>NaN</td>\n",
       "      <td>105</td>\n",
       "      <td>Documentary,Drama,Music</td>\n",
       "      <td>8.4</td>\n",
       "      <td>5463</td>\n",
       "      <td>8.283364</td>\n",
       "    </tr>\n",
       "    <tr>\n",
       "      <th>3998</th>\n",
       "      <td>tt12865416</td>\n",
       "      <td>movie</td>\n",
       "      <td>30 Years and 15 Minutes</td>\n",
       "      <td>30 de ani si 15 minute</td>\n",
       "      <td>0</td>\n",
       "      <td>2020</td>\n",
       "      <td>NaN</td>\n",
       "      <td>95</td>\n",
       "      <td>Animation,Documentary</td>\n",
       "      <td>8.5</td>\n",
       "      <td>2724</td>\n",
       "      <td>8.268660</td>\n",
       "    </tr>\n",
       "    <tr>\n",
       "      <th>8160</th>\n",
       "      <td>tt8652818</td>\n",
       "      <td>movie</td>\n",
       "      <td>Violet Evergarden: The Movie</td>\n",
       "      <td>Gekijôban Vaioretto Evâgâden</td>\n",
       "      <td>0</td>\n",
       "      <td>2020</td>\n",
       "      <td>NaN</td>\n",
       "      <td>140</td>\n",
       "      <td>Animation,Drama,Fantasy</td>\n",
       "      <td>8.3</td>\n",
       "      <td>12699</td>\n",
       "      <td>8.251038</td>\n",
       "    </tr>\n",
       "    <tr>\n",
       "      <th>234</th>\n",
       "      <td>tt10272386</td>\n",
       "      <td>movie</td>\n",
       "      <td>The Father</td>\n",
       "      <td>The Father</td>\n",
       "      <td>0</td>\n",
       "      <td>2020</td>\n",
       "      <td>NaN</td>\n",
       "      <td>97</td>\n",
       "      <td>Drama,Mystery</td>\n",
       "      <td>8.2</td>\n",
       "      <td>217043</td>\n",
       "      <td>8.197253</td>\n",
       "    </tr>\n",
       "  </tbody>\n",
       "</table>\n",
       "</div>"
      ],
      "text/plain": [
       "          tconst titleType                                       primaryTitle  \\\n",
       "6166  tt14888874     movie  Demon Slayer: Kimetsu no Yaiba - Mt. Natagumo Arc   \n",
       "148   tt10189514     movie                                    Soorarai Pottru   \n",
       "3241  tt12415546     movie                         Attack on Titan: Chronicle   \n",
       "2053  tt11737772     movie                                   Chal Mera Putt 2   \n",
       "7879   tt8110330     movie                                        Dil Bechara   \n",
       "8079   tt8503618     movie                                           Hamilton   \n",
       "5332  tt13524234     movie  Taylor Swift: Folklore: The Long Pond Studio S...   \n",
       "3998  tt12865416     movie                            30 Years and 15 Minutes   \n",
       "8160   tt8652818     movie                       Violet Evergarden: The Movie   \n",
       "234   tt10272386     movie                                         The Father   \n",
       "\n",
       "                                          originalTitle isAdult startYear  \\\n",
       "6166                Kimetsu no Yaiba: Natagumo Yama-hen       0      2020   \n",
       "148                                     Soorarai Pottru       0      2020   \n",
       "3241                      Shingeki no Kyojin: Chronicle       0      2020   \n",
       "2053                                   Chal Mera Putt 2       0      2020   \n",
       "7879                                        Dil Bechara       0      2020   \n",
       "8079                                           Hamilton       0      2020   \n",
       "5332  Taylor Swift: Folklore - The Long Pond Studio ...       0      2020   \n",
       "3998                             30 de ani si 15 minute       0      2020   \n",
       "8160                       Gekijôban Vaioretto Evâgâden       0      2020   \n",
       "234                                          The Father       0      2020   \n",
       "\n",
       "     endYear runtimeMinutes                      genres  averageRating  \\\n",
       "6166     NaN            138    Action,Animation,Fantasy            8.7   \n",
       "148      NaN            153                       Drama            8.6   \n",
       "3241     NaN            122  Action,Adventure,Animation            8.4   \n",
       "2053     NaN            124                       Drama            8.5   \n",
       "7879     NaN            101        Comedy,Drama,Romance            8.3   \n",
       "8079     NaN            160     Biography,Drama,History            8.3   \n",
       "5332     NaN            105     Documentary,Drama,Music            8.4   \n",
       "3998     NaN             95       Animation,Documentary            8.5   \n",
       "8160     NaN            140     Animation,Drama,Fantasy            8.3   \n",
       "234      NaN             97               Drama,Mystery            8.2   \n",
       "\n",
       "      numVotes  weightedRating  \n",
       "6166     17590        8.653732  \n",
       "148     128768        8.593901  \n",
       "3241     12517        8.346682  \n",
       "2053      3641        8.320175  \n",
       "7879    136500        8.295290  \n",
       "8079    130455        8.295073  \n",
       "5332      5463        8.283364  \n",
       "3998      2724        8.268660  \n",
       "8160     12699        8.251038  \n",
       "234     217043        8.197253  "
      ]
     },
     "execution_count": 14,
     "metadata": {},
     "output_type": "execute_result"
    }
   ],
   "source": [
    "import pandas as pd\n",
    "\n",
    "# File paths\n",
    "title_basics_path = \"title.basics.tsv.gz\"\n",
    "title_ratings_path = \"title.ratings.tsv.gz\"\n",
    "\n",
    "# Load data\n",
    "title_basics = pd.read_csv(title_basics_path, sep='\\t', compression='gzip', na_values='\\\\N', dtype=str)\n",
    "title_ratings = pd.read_csv(title_ratings_path, sep='\\t', compression='gzip', dtype={'tconst': str, 'averageRating': float, 'numVotes': int})\n",
    "\n",
    "# Filter to only 2020 movies\n",
    "movies_2020 = title_basics[\n",
    "    (title_basics[\"titleType\"] == \"movie\") &\n",
    "    (title_basics[\"startYear\"] == \"2020\")\n",
    "]\n",
    "\n",
    "# Merge with ratings\n",
    "movies_2020_rated = pd.merge(movies_2020, title_ratings, on=\"tconst\")\n",
    "\n",
    "# Compute C (mean rating across all rated movies)\n",
    "C = title_ratings[\"averageRating\"].mean()\n",
    "\n",
    "# Compute m (minimum number of votes to be considered)\n",
    "m = title_ratings[\"numVotes\"].quantile(0.90)\n",
    "\n",
    "# Filter only movies that have more than m votes\n",
    "qualified = movies_2020_rated[movies_2020_rated[\"numVotes\"] >= m].copy()\n",
    "\n",
    "# Calculate Bayesian weighted rating\n",
    "qualified[\"weightedRating\"] = (\n",
    "    (qualified[\"numVotes\"] / (qualified[\"numVotes\"] + m)) * qualified[\"averageRating\"]\n",
    "    + (m / (qualified[\"numVotes\"] + m)) * C\n",
    ")\n",
    "\n",
    "# Sort by weighted rating\n",
    "qualified = qualified.sort_values(by=\"weightedRating\", ascending=False)\n",
    "\n",
    "# Display top movies\n",
    "#print(qualified[[\"primaryTitle\", \"startYear\", \"averageRating\", \"numVotes\", \"weightedRating\"]].head(10))\n",
    "qualified.head(10)"
   ]
  },
  {
   "cell_type": "markdown",
   "id": "a8718306",
   "metadata": {},
   "source": [
    "## Performance per Genre with Bayesian"
   ]
  },
  {
   "cell_type": "code",
   "execution_count": 15,
   "id": "f9f759f8",
   "metadata": {},
   "outputs": [
    {
     "name": "stdout",
     "output_type": "stream",
     "text": [
      "          genre  count  numVotes  avgRating  weightedRating\n",
      "7   Documentary  53635  16900554   7.207689        7.207571\n",
      "18         News    682    261761   7.214516        7.206885\n",
      "4     Biography  10429  78568408   6.930923        6.930905\n",
      "13      History   9333  33598863   6.780296        6.780260\n",
      "15        Music   8406  25160461   6.754116        6.754071\n",
      "22        Sport   4184  20076140   6.615464        6.615420\n",
      "11    Film-Noir    882   4132557   6.446712        6.446578\n",
      "19   Reality-TV     92      8162   6.501087        6.435801\n",
      "25          War   6664  27943489   6.363640        6.363626\n",
      "3     Animation   5941  72327785   6.327184        6.327179\n"
     ]
    }
   ],
   "source": [
    "import pandas as pd\n",
    "\n",
    "# File paths\n",
    "title_basics_path = \"title.basics.tsv.gz\"\n",
    "title_ratings_path = \"title.ratings.tsv.gz\"\n",
    "\n",
    "# Load data\n",
    "title_basics = pd.read_csv(title_basics_path, sep='\\t', compression='gzip', na_values='\\\\N', dtype=str)\n",
    "title_ratings = pd.read_csv(title_ratings_path, sep='\\t', compression='gzip', dtype={'tconst': str, 'averageRating': float, 'numVotes': int})\n",
    "\n",
    "# Merge datasets\n",
    "movies = title_basics[title_basics[\"titleType\"] == \"movie\"]\n",
    "movies = movies.merge(title_ratings, on=\"tconst\")\n",
    "\n",
    "# Expand genres\n",
    "movies[\"genres\"] = movies[\"genres\"].fillna(\"\")\n",
    "movies = movies[movies[\"genres\"] != \"\"]\n",
    "movies_expanded = movies.assign(genre=movies[\"genres\"].str.split(\",\")).explode(\"genre\")\n",
    "\n",
    "# Compute global C and m for all movies\n",
    "C = movies[\"averageRating\"].mean()\n",
    "m = movies[\"numVotes\"].quantile(0.90)\n",
    "\n",
    "# Group by genre and compute aggregates\n",
    "genre_stats = movies_expanded.groupby(\"genre\").agg(\n",
    "    count=(\"tconst\", \"count\"),\n",
    "    numVotes=(\"numVotes\", \"sum\"),\n",
    "    avgRating=(\"averageRating\", \"mean\")\n",
    ").reset_index()\n",
    "\n",
    "# Compute Bayesian average per genre\n",
    "genre_stats[\"weightedRating\"] = (\n",
    "    (genre_stats[\"numVotes\"] / (genre_stats[\"numVotes\"] + m)) * genre_stats[\"avgRating\"]\n",
    "    + (m / (genre_stats[\"numVotes\"] + m)) * C\n",
    ")\n",
    "\n",
    "# Sort genres by Bayesian weighted rating\n",
    "genre_stats = genre_stats.sort_values(by=\"weightedRating\", ascending=False)\n",
    "\n",
    "# Display top genres\n",
    "print(genre_stats[[\"genre\", \"count\", \"numVotes\", \"avgRating\", \"weightedRating\"]].head(10))"
   ]
  },
  {
   "cell_type": "markdown",
   "id": "e285a909",
   "metadata": {},
   "source": [
    "# Popular Actor"
   ]
  },
  {
   "cell_type": "code",
   "execution_count": 2,
   "id": "c5c1b093",
   "metadata": {},
   "outputs": [
    {
     "name": "stdout",
     "output_type": "stream",
     "text": [
      "                 primaryName  total_votes  appearances\n",
      "8041         Rich Ceraulo Ko    1280623.0            3\n",
      "7406             Ivo Uukkivi     637742.0            3\n",
      "3779           Andrew Howard     637230.0            2\n",
      "49246      Elizabeth Debicki     637130.0            1\n",
      "7632   John David Washington     637130.0            1\n",
      "33923            Wes Chatham     637130.0            1\n",
      "38906          Jonathan Camp     637130.0            1\n",
      "35051       Robert Pattinson     637130.0            1\n",
      "38258           Juhan Ulfsak     637130.0            1\n",
      "39791         Jefferson Hall     637130.0            1\n"
     ]
    }
   ],
   "source": [
    "import pandas as pd\n",
    "\n",
    "# Step 1: Load only movie IDs from 2020\n",
    "title_basics = pd.read_csv(\n",
    "    \"title.basics.tsv.gz\",\n",
    "    sep=\"\\t\",\n",
    "    compression=\"gzip\",\n",
    "    usecols=[\"tconst\", \"titleType\", \"startYear\"],\n",
    "    dtype=str,\n",
    "    na_values=\"\\\\N\"\n",
    ")\n",
    "\n",
    "movies_2020_ids = set(\n",
    "    title_basics[\n",
    "        (title_basics[\"titleType\"] == \"movie\") & (title_basics[\"startYear\"] == \"2020\")\n",
    "    ][\"tconst\"]\n",
    ")\n",
    "\n",
    "# Step 2: Load ratings and filter for 2020 movie IDs\n",
    "title_ratings = pd.read_csv(\n",
    "    \"title.ratings.tsv.gz\",\n",
    "    sep=\"\\t\",\n",
    "    compression=\"gzip\",\n",
    "    dtype={\"tconst\": str, \"averageRating\": float, \"numVotes\": int}\n",
    ")\n",
    "\n",
    "ratings_2020 = title_ratings[title_ratings[\"tconst\"].isin(movies_2020_ids)]\n",
    "\n",
    "# Step 3: Stream `title.principals.tsv.gz` in chunks to get only actors for 2020 movies\n",
    "chunksize = 100_000\n",
    "actor_rows = []\n",
    "\n",
    "for chunk in pd.read_csv(\n",
    "    \"title.principals.tsv.gz\",\n",
    "    sep=\"\\t\",\n",
    "    compression=\"gzip\",\n",
    "    usecols=[\"tconst\", \"nconst\", \"category\"],\n",
    "    dtype=str,\n",
    "    na_values=\"\\\\N\",\n",
    "    chunksize=chunksize\n",
    "):\n",
    "    filtered_chunk = chunk[\n",
    "        (chunk[\"tconst\"].isin(movies_2020_ids)) &\n",
    "        (chunk[\"category\"].isin([\"actor\", \"actress\"]))\n",
    "    ]\n",
    "    actor_rows.append(filtered_chunk)\n",
    "\n",
    "# Concatenate all actor rows (this should now be much smaller)\n",
    "actors_df = pd.concat(actor_rows, ignore_index=True)\n",
    "\n",
    "# Merge with ratings\n",
    "actors_with_votes = actors_df.merge(\n",
    "    ratings_2020[[\"tconst\", \"numVotes\"]],\n",
    "    on=\"tconst\",\n",
    "    how=\"left\"\n",
    ")\n",
    "\n",
    "# Step 4: Aggregate total votes per actor\n",
    "actor_votes = actors_with_votes.groupby(\"nconst\").agg(\n",
    "    total_votes=pd.NamedAgg(column=\"numVotes\", aggfunc=\"sum\"),\n",
    "    appearances=pd.NamedAgg(column=\"tconst\", aggfunc=\"count\")\n",
    ").reset_index()\n",
    "\n",
    "# Step 5: Load only necessary columns from names\n",
    "name_basics = pd.read_csv(\n",
    "    \"name.basics.tsv.gz\",\n",
    "    sep=\"\\t\",\n",
    "    compression=\"gzip\",\n",
    "    usecols=[\"nconst\", \"primaryName\"],\n",
    "    dtype=str,\n",
    "    na_values=\"\\\\N\"\n",
    ")\n",
    "\n",
    "# Merge names\n",
    "top_actor = actor_votes.merge(name_basics, on=\"nconst\").sort_values(\n",
    "    by=\"total_votes\", ascending=False\n",
    ").head(10)\n",
    "\n",
    "# Display result\n",
    "print(top_actor[[\"primaryName\", \"total_votes\", \"appearances\"]])"
   ]
  },
  {
   "cell_type": "markdown",
   "id": "17118298",
   "metadata": {},
   "source": [
    "# Bayesian"
   ]
  },
  {
   "cell_type": "code",
   "execution_count": 3,
   "id": "e39426da",
   "metadata": {},
   "outputs": [
    {
     "name": "stdout",
     "output_type": "stream",
     "text": [
      "                 primaryName  v              R  bayesian_score  total_votes\n",
      "8041         Rich Ceraulo Ko  3  426874.333333   214903.386752    1280623.0\n",
      "39796         Jefferson Hall  1  637130.000000   161481.830128     637130.0\n",
      "38911          Jonathan Camp  1  637130.000000   161481.830128     637130.0\n",
      "33923            Wes Chatham  1  637130.000000   161481.830128     637130.0\n",
      "38263           Juhan Ulfsak  1  637130.000000   161481.830128     637130.0\n",
      "7632   John David Washington  1  637130.000000   161481.830128     637130.0\n",
      "35051       Robert Pattinson  1  637130.000000   161481.830128     637130.0\n",
      "49251      Elizabeth Debicki  1  637130.000000   161481.830128     637130.0\n",
      "3779           Andrew Howard  2  318615.000000   129205.464102     637230.0\n",
      "59529      Rudhraksh Jaiswal  2  281002.000000   114160.264102     281002.0\n"
     ]
    }
   ],
   "source": [
    "import pandas as pd\n",
    "\n",
    "# Load title.basics to get 2020 movie IDs\n",
    "title_basics = pd.read_csv(\n",
    "    \"title.basics.tsv.gz\",\n",
    "    sep=\"\\t\",\n",
    "    compression=\"gzip\",\n",
    "    usecols=[\"tconst\", \"titleType\", \"startYear\"],\n",
    "    dtype=str,\n",
    "    na_values=\"\\\\N\"\n",
    ")\n",
    "movies_2020 = title_basics[\n",
    "    (title_basics[\"titleType\"] == \"movie\") & (title_basics[\"startYear\"] == \"2020\")\n",
    "][\"tconst\"]\n",
    "movie_ids_2020 = set(movies_2020)\n",
    "\n",
    "# Load ratings\n",
    "ratings = pd.read_csv(\n",
    "    \"title.ratings.tsv.gz\",\n",
    "    sep=\"\\t\",\n",
    "    compression=\"gzip\",\n",
    "    dtype={\"tconst\": str, \"averageRating\": float, \"numVotes\": int}\n",
    ")\n",
    "ratings = ratings[ratings[\"tconst\"].isin(movie_ids_2020)]\n",
    "\n",
    "# Load title.principals in chunks to get actors for 2020 movies\n",
    "chunksize = 100_000\n",
    "actor_chunks = []\n",
    "\n",
    "for chunk in pd.read_csv(\n",
    "    \"title.principals.tsv.gz\",\n",
    "    sep=\"\\t\",\n",
    "    compression=\"gzip\",\n",
    "    usecols=[\"tconst\", \"nconst\", \"category\"],\n",
    "    dtype=str,\n",
    "    na_values=\"\\\\N\",\n",
    "    chunksize=chunksize\n",
    "):\n",
    "    filtered = chunk[\n",
    "        (chunk[\"tconst\"].isin(movie_ids_2020)) &\n",
    "        (chunk[\"category\"].isin([\"actor\", \"actress\"]))\n",
    "    ]\n",
    "    actor_chunks.append(filtered)\n",
    "\n",
    "actors_df = pd.concat(actor_chunks, ignore_index=True)\n",
    "\n",
    "# Merge with ratings to get votes per movie per actor\n",
    "actors_rated = actors_df.merge(ratings[[\"tconst\", \"numVotes\"]], on=\"tconst\", how=\"left\")\n",
    "\n",
    "# Group by actor\n",
    "actor_stats = actors_rated.groupby(\"nconst\").agg(\n",
    "    v=(\"tconst\", \"count\"),                 # appearances\n",
    "    R=(\"numVotes\", \"mean\"),               # average votes per movie\n",
    "    total_votes=(\"numVotes\", \"sum\")       # total votes\n",
    ").reset_index()\n",
    "\n",
    "# Compute global average (C) and m\n",
    "C = actor_stats[\"R\"].mean()\n",
    "m = 3  # adjust as needed\n",
    "\n",
    "# Apply Bayesian formula\n",
    "actor_stats[\"bayesian_score\"] = (\n",
    "    (actor_stats[\"v\"] / (actor_stats[\"v\"] + m)) * actor_stats[\"R\"] +\n",
    "    (m / (actor_stats[\"v\"] + m)) * C\n",
    ")\n",
    "\n",
    "# Load name.basics for actor names\n",
    "names = pd.read_csv(\n",
    "    \"name.basics.tsv.gz\",\n",
    "    sep=\"\\t\",\n",
    "    compression=\"gzip\",\n",
    "    usecols=[\"nconst\", \"primaryName\"],\n",
    "    dtype=str,\n",
    "    na_values=\"\\\\N\"\n",
    ")\n",
    "\n",
    "# Merge names\n",
    "actor_scores_named = actor_stats.merge(names, on=\"nconst\", how=\"left\")\n",
    "\n",
    "# Sort and show top 10\n",
    "top_actors = actor_scores_named.sort_values(by=\"bayesian_score\", ascending=False).head(10)\n",
    "print(top_actors[[\"primaryName\", \"v\", \"R\", \"bayesian_score\", \"total_votes\"]])"
   ]
  },
  {
   "cell_type": "markdown",
   "id": "aa04b32e",
   "metadata": {},
   "source": [
    "# Trend over the years"
   ]
  },
  {
   "cell_type": "code",
   "execution_count": 4,
   "id": "40528712",
   "metadata": {},
   "outputs": [
    {
     "name": "stderr",
     "output_type": "stream",
     "text": [
      "C:\\Users\\User\\AppData\\Local\\Temp\\ipykernel_30412\\1595260147.py:20: SettingWithCopyWarning: \n",
      "A value is trying to be set on a copy of a slice from a DataFrame.\n",
      "Try using .loc[row_indexer,col_indexer] = value instead\n",
      "\n",
      "See the caveats in the documentation: https://pandas.pydata.org/pandas-docs/stable/user_guide/indexing.html#returning-a-view-versus-a-copy\n",
      "  movies[\"startYear\"] = pd.to_numeric(movies[\"startYear\"], errors=\"coerce\")\n"
     ]
    },
    {
     "data": {
      "image/png": "[encoded data removed]",
      "text/plain": [
       "<Figure size 1400x800 with 1 Axes>"
      ]
     },
     "metadata": {},
     "output_type": "display_data"
    },
    {
     "data": {
      "image/png": "[encoded data removed]",
      "text/plain": [
       "<Figure size 1400x800 with 1 Axes>"
      ]
     },
     "metadata": {},
     "output_type": "display_data"
    }
   ],
   "source": [
    "# IMDb Trend Analysis: Genre-Year Trends\n",
    "import pandas as pd\n",
    "import matplotlib.pyplot as plt\n",
    "import seaborn as sns\n",
    "\n",
    "# Load IMDb data\n",
    "title_basics_path = \"title.basics.tsv.gz\"\n",
    "title_ratings_path = \"title.ratings.tsv.gz\"\n",
    "\n",
    "# Read datasets\n",
    "basics = pd.read_csv(title_basics_path, sep=\"\\t\", compression=\"gzip\", dtype=str, na_values=\"\\\\N\")\n",
    "ratings = pd.read_csv(title_ratings_path, sep=\"\\t\", compression=\"gzip\", dtype={\"tconst\": str, \"averageRating\": float, \"numVotes\": int})\n",
    "\n",
    "# Filter for valid movies with known start year and genres\n",
    "movies = basics[(basics[\"titleType\"] == \"movie\") & \n",
    "                basics[\"startYear\"].notna() & \n",
    "                basics[\"genres\"].notna()]\n",
    "\n",
    "# Convert startYear to int and filter reasonable years\n",
    "movies[\"startYear\"] = pd.to_numeric(movies[\"startYear\"], errors=\"coerce\")\n",
    "movies = movies[movies[\"startYear\"].between(1990, 2024)]\n",
    "\n",
    "# Merge ratings\n",
    "movies = pd.merge(movies, ratings, on=\"tconst\")\n",
    "\n",
    "# Explode genres (from \"Action,Drama\" → [\"Action\", \"Drama\"])\n",
    "movies[\"genres\"] = movies[\"genres\"].str.split(\",\")\n",
    "movies = movies.explode(\"genres\")\n",
    "\n",
    "# Optional: Compute Bayesian average\n",
    "C = movies[\"averageRating\"].mean()\n",
    "m = 1000  # minimum votes threshold\n",
    "\n",
    "movies[\"bayesianRating\"] = (\n",
    "    (movies[\"numVotes\"] / (movies[\"numVotes\"] + m)) * movies[\"averageRating\"] +\n",
    "    (m / (movies[\"numVotes\"] + m)) * C\n",
    ")\n",
    "\n",
    "# Aggregate by genre and year\n",
    "agg = movies.groupby([\"startYear\", \"genres\"]).agg({\n",
    "    \"tconst\": \"count\",\n",
    "    \"averageRating\": \"mean\",\n",
    "    \"numVotes\": \"sum\",\n",
    "    \"bayesianRating\": \"mean\"\n",
    "}).rename(columns={\"tconst\": \"movieCount\"}).reset_index()\n",
    "\n",
    "# Plotting setup\n",
    "plt.figure(figsize=(14, 8))\n",
    "top_genres = agg.groupby(\"genres\")[\"movieCount\"].sum().sort_values(ascending=False).head(5).index.tolist()\n",
    "filtered_agg = agg[agg[\"genres\"].isin(top_genres)]\n",
    "\n",
    "# Plot average rating trend\n",
    "sns.lineplot(data=filtered_agg, x=\"startYear\", y=\"averageRating\", hue=\"genres\")\n",
    "plt.title(\"Average IMDb Rating per Genre Over the Years\")\n",
    "plt.xlabel(\"Year\")\n",
    "plt.ylabel(\"Average Rating\")\n",
    "plt.legend(title=\"Genre\")\n",
    "plt.grid(True)\n",
    "plt.tight_layout()\n",
    "plt.show()\n",
    "\n",
    "# Optional: Plot Bayesian rating trend\n",
    "plt.figure(figsize=(14, 8))\n",
    "sns.lineplot(data=filtered_agg, x=\"startYear\", y=\"bayesianRating\", hue=\"genres\")\n",
    "plt.title(\"Bayesian IMDb Rating per Genre Over the Years\")\n",
    "plt.xlabel(\"Year\")\n",
    "plt.ylabel(\"Bayesian Rating\")\n",
    "plt.legend(title=\"Genre\")\n",
    "plt.grid(True)\n",
    "plt.tight_layout()\n",
    "plt.show()\n"
   ]
  },
  {
   "cell_type": "code",
   "execution_count": 5,
   "id": "dc0f3ecb",
   "metadata": {},
   "outputs": [
    {
     "name": "stderr",
     "output_type": "stream",
     "text": [
      "C:\\Users\\User\\AppData\\Local\\Temp\\ipykernel_30412\\8523465.py:14: SettingWithCopyWarning: \n",
      "A value is trying to be set on a copy of a slice from a DataFrame.\n",
      "Try using .loc[row_indexer,col_indexer] = value instead\n",
      "\n",
      "See the caveats in the documentation: https://pandas.pydata.org/pandas-docs/stable/user_guide/indexing.html#returning-a-view-versus-a-copy\n",
      "  movies[\"startYear\"] = pd.to_numeric(movies[\"startYear\"], errors=\"coerce\")\n"
     ]
    },
    {
     "data": {
      "application/vnd.plotly.v1+json": {
       "config": {
        "plotlyServerURL": "https://plot.ly"
       },
       "data": [
        {
         "mode": "lines+markers",
         "name": "Drama Rating",
         "type": "scatter",
         "x": [
          1990,
          1991,
          1992,
          1993,
          1994,
          1995,
          1996,
          1997,
          1998,
          1999,
          2000,
          2001,
          2002,
          2003,
          2004,
          2005,
          2006,
          2007,
          2008,
          2009,
          2010,
          2011,
          2012,
          2013,
          2014,
          2015,
          2016,
          2017,
          2018,
          2019,
          2020,
          2021,
          2022,
          2023,
          2024
         ],
         "y": [
          6.1885794703226535,
          6.2025351623042315,
          6.225835140662738,
          6.215823514320924,
          6.199370394348923,
          6.202539264114197,
          6.20279896241257,
          6.213841074682161,
          6.214128865263593,
          6.202952433580028,
          6.1892543141442475,
          6.188905250690683,
          6.202294649495654,
          6.188929940202808,
          6.207223026274659,
          6.182918863123605,
          6.19351273168193,
          6.1884396896570255,
          6.168377419954122,
          6.162593540611686,
          6.1670555322153575,
          6.159215240249119,
          6.157857515744248,
          6.16373000270739,
          6.159916743503575,
          6.143432388470997,
          6.161262248623131,
          6.148907152727815,
          6.154041975652394,
          6.147989558374732,
          6.106516963096723,
          6.126804940130735,
          6.166456757632026,
          6.171547563626305,
          6.195611572389721
         ],
         "yaxis": "y"
        },
        {
         "line": {
          "dash": "dot"
         },
         "mode": "lines",
         "name": "Drama Count",
         "type": "scatter",
         "x": [
          1990,
          1991,
          1992,
          1993,
          1994,
          1995,
          1996,
          1997,
          1998,
          1999,
          2000,
          2001,
          2002,
          2003,
          2004,
          2005,
          2006,
          2007,
          2008,
          2009,
          2010,
          2011,
          2012,
          2013,
          2014,
          2015,
          2016,
          2017,
          2018,
          2019,
          2020,
          2021,
          2022,
          2023,
          2024
         ],
         "y": [
          1285,
          1303,
          1162,
          1207,
          1239,
          1284,
          1257,
          1371,
          1397,
          1513,
          1566,
          1735,
          1797,
          1826,
          1908,
          2133,
          2364,
          2405,
          2696,
          3035,
          3223,
          3413,
          3522,
          3855,
          3982,
          4163,
          4168,
          4307,
          4399,
          4421,
          3305,
          3780,
          4333,
          4405,
          3866
         ],
         "yaxis": "y2"
        },
        {
         "mode": "lines+markers",
         "name": "Comedy Rating",
         "type": "scatter",
         "x": [
          1990,
          1991,
          1992,
          1993,
          1994,
          1995,
          1996,
          1997,
          1998,
          1999,
          2000,
          2001,
          2002,
          2003,
          2004,
          2005,
          2006,
          2007,
          2008,
          2009,
          2010,
          2011,
          2012,
          2013,
          2014,
          2015,
          2016,
          2017,
          2018,
          2019,
          2020,
          2021,
          2022,
          2023,
          2024
         ],
         "y": [
          6.1196097709073705,
          6.1357970537648026,
          6.137151593286916,
          6.125655838348588,
          6.0944967425511,
          6.140558186404371,
          6.11524225496464,
          6.093243379778306,
          6.1357932716763885,
          6.0939514761953335,
          6.103540781903474,
          6.103811803097241,
          6.07641623924245,
          6.087462249303685,
          6.0714984284912035,
          6.047825688533824,
          6.033119951223621,
          6.04899388862786,
          6.012606098921674,
          6.037855246637924,
          6.077530813304878,
          6.051443016660194,
          6.041020600949609,
          6.055437519093713,
          6.057783869164586,
          6.057172788892277,
          6.039019730362194,
          6.044081976211326,
          6.03732489896782,
          6.037461480017048,
          6.021256255755819,
          6.055984095960299,
          6.067737566622434,
          6.095920562074682,
          6.101407793536738
         ],
         "yaxis": "y"
        },
        {
         "line": {
          "dash": "dot"
         },
         "mode": "lines",
         "name": "Comedy Count",
         "type": "scatter",
         "x": [
          1990,
          1991,
          1992,
          1993,
          1994,
          1995,
          1996,
          1997,
          1998,
          1999,
          2000,
          2001,
          2002,
          2003,
          2004,
          2005,
          2006,
          2007,
          2008,
          2009,
          2010,
          2011,
          2012,
          2013,
          2014,
          2015,
          2016,
          2017,
          2018,
          2019,
          2020,
          2021,
          2022,
          2023,
          2024
         ],
         "y": [
          686,
          680,
          677,
          620,
          689,
          645,
          723,
          808,
          838,
          896,
          887,
          979,
          1002,
          1103,
          1121,
          1251,
          1349,
          1343,
          1519,
          1709,
          1757,
          1888,
          2009,
          2066,
          2235,
          2213,
          2271,
          2264,
          2374,
          2237,
          1638,
          1763,
          2341,
          2320,
          2073
         ],
         "yaxis": "y2"
        },
        {
         "mode": "lines+markers",
         "name": "Documentary Rating",
         "type": "scatter",
         "x": [
          1990,
          1991,
          1992,
          1993,
          1994,
          1995,
          1996,
          1997,
          1998,
          1999,
          2000,
          2001,
          2002,
          2003,
          2004,
          2005,
          2006,
          2007,
          2008,
          2009,
          2010,
          2011,
          2012,
          2013,
          2014,
          2015,
          2016,
          2017,
          2018,
          2019,
          2020,
          2021,
          2022,
          2023,
          2024
         ],
         "y": [
          6.203146208977802,
          6.209171344230724,
          6.255527206605412,
          6.23369578015449,
          6.23706132460033,
          6.226487846040237,
          6.232010408720443,
          6.230489740932425,
          6.211769396443915,
          6.229548522660188,
          6.228266079242063,
          6.236653379539724,
          6.241414244908891,
          6.254903174749941,
          6.240319548946794,
          6.248704415124792,
          6.2514953634437,
          6.24449080256486,
          6.239187543283132,
          6.222618901245879,
          6.232652318912841,
          6.231577739464771,
          6.229843974426526,
          6.2253434905310785,
          6.235273231259529,
          6.237467096998903,
          6.2302807686040245,
          6.235790079439453,
          6.232633718520249,
          6.23204863988541,
          6.227959541357669,
          6.224830661729386,
          6.224492552510882,
          6.21555524717625,
          6.22074934768366
         ],
         "yaxis": "y"
        },
        {
         "line": {
          "dash": "dot"
         },
         "mode": "lines",
         "name": "Documentary Count",
         "type": "scatter",
         "x": [
          1990,
          1991,
          1992,
          1993,
          1994,
          1995,
          1996,
          1997,
          1998,
          1999,
          2000,
          2001,
          2002,
          2003,
          2004,
          2005,
          2006,
          2007,
          2008,
          2009,
          2010,
          2011,
          2012,
          2013,
          2014,
          2015,
          2016,
          2017,
          2018,
          2019,
          2020,
          2021,
          2022,
          2023,
          2024
         ],
         "y": [
          158,
          199,
          199,
          209,
          246,
          243,
          300,
          345,
          342,
          382,
          446,
          499,
          626,
          718,
          878,
          989,
          1122,
          1260,
          1498,
          1752,
          1846,
          2065,
          2186,
          2306,
          2544,
          2514,
          2628,
          2758,
          2678,
          2855,
          2548,
          2431,
          2580,
          2397,
          2214
         ],
         "yaxis": "y2"
        },
        {
         "mode": "lines+markers",
         "name": "Thriller Rating",
         "type": "scatter",
         "x": [
          1990,
          1991,
          1992,
          1993,
          1994,
          1995,
          1996,
          1997,
          1998,
          1999,
          2000,
          2001,
          2002,
          2003,
          2004,
          2005,
          2006,
          2007,
          2008,
          2009,
          2010,
          2011,
          2012,
          2013,
          2014,
          2015,
          2016,
          2017,
          2018,
          2019,
          2020,
          2021,
          2022,
          2023,
          2024
         ],
         "y": [
          6.0816631538096875,
          6.003852391690483,
          6.068351786027564,
          6.0206477362589,
          5.973231784555339,
          5.965462879902371,
          5.969369501695802,
          6.032078814442043,
          5.994716314677972,
          6.037708925321227,
          5.974617744826463,
          5.9817161594021595,
          5.981900988121146,
          5.982292482651686,
          6.022838048498285,
          6.003286534124075,
          5.9033623131863076,
          5.9819527582973695,
          5.973186468487671,
          5.92846397335845,
          5.926888852195289,
          5.9666374823174175,
          5.945937471341876,
          5.955186543095869,
          5.963369363276146,
          5.932861631289239,
          5.936194748793871,
          5.926462251033371,
          5.921502929085608,
          5.914017621498928,
          5.840161264353822,
          5.8844943676218024,
          5.971454455725712,
          6.008136294076917,
          6.0563472646474645
         ],
         "yaxis": "y"
        },
        {
         "line": {
          "dash": "dot"
         },
         "mode": "lines",
         "name": "Thriller Count",
         "type": "scatter",
         "x": [
          1990,
          1991,
          1992,
          1993,
          1994,
          1995,
          1996,
          1997,
          1998,
          1999,
          2000,
          2001,
          2002,
          2003,
          2004,
          2005,
          2006,
          2007,
          2008,
          2009,
          2010,
          2011,
          2012,
          2013,
          2014,
          2015,
          2016,
          2017,
          2018,
          2019,
          2020,
          2021,
          2022,
          2023,
          2024
         ],
         "y": [
          217,
          201,
          226,
          246,
          249,
          273,
          247,
          280,
          269,
          310,
          332,
          316,
          299,
          314,
          366,
          359,
          460,
          490,
          531,
          642,
          689,
          722,
          816,
          985,
          1038,
          1071,
          1063,
          1092,
          1108,
          1108,
          935,
          1087,
          1428,
          1468,
          1395
         ],
         "yaxis": "y2"
        },
        {
         "mode": "lines+markers",
         "name": "Action Rating",
         "type": "scatter",
         "x": [
          1990,
          1991,
          1992,
          1993,
          1994,
          1995,
          1996,
          1997,
          1998,
          1999,
          2000,
          2001,
          2002,
          2003,
          2004,
          2005,
          2006,
          2007,
          2008,
          2009,
          2010,
          2011,
          2012,
          2013,
          2014,
          2015,
          2016,
          2017,
          2018,
          2019,
          2020,
          2021,
          2022,
          2023,
          2024
         ],
         "y": [
          6.0515409545561125,
          6.051251919828785,
          6.075799737138202,
          6.069573273686736,
          6.017236495675348,
          6.034404554457354,
          6.017758579491845,
          6.008117205851359,
          6.022942719462535,
          5.9969341189346945,
          5.982901084132367,
          6.012214489194371,
          5.980117630073649,
          6.033225622911921,
          6.030974189846258,
          5.971466263887433,
          5.979149540895063,
          6.005236468189535,
          6.002047239485208,
          5.9854399602553086,
          6.029817705942206,
          6.014521872893875,
          5.988890393619457,
          5.958792809672226,
          5.9922446818387325,
          5.9770134238795505,
          5.972961295109202,
          5.992228900369599,
          5.971473873640703,
          5.984092440599403,
          5.90872958009361,
          5.95573377726942,
          5.966573554898771,
          6.015863507797067,
          6.066720325588383
         ],
         "yaxis": "y"
        },
        {
         "line": {
          "dash": "dot"
         },
         "mode": "lines",
         "name": "Action Count",
         "type": "scatter",
         "x": [
          1990,
          1991,
          1992,
          1993,
          1994,
          1995,
          1996,
          1997,
          1998,
          1999,
          2000,
          2001,
          2002,
          2003,
          2004,
          2005,
          2006,
          2007,
          2008,
          2009,
          2010,
          2011,
          2012,
          2013,
          2014,
          2015,
          2016,
          2017,
          2018,
          2019,
          2020,
          2021,
          2022,
          2023,
          2024
         ],
         "y": [
          504,
          474,
          428,
          444,
          436,
          458,
          407,
          391,
          387,
          388,
          359,
          456,
          449,
          422,
          461,
          433,
          450,
          478,
          552,
          657,
          757,
          781,
          763,
          832,
          896,
          926,
          967,
          1002,
          955,
          957,
          666,
          906,
          1002,
          1089,
          954
         ],
         "yaxis": "y2"
        }
       ],
       "layout": {
        "height": 600,
        "legend": {
         "orientation": "h",
         "y": -0.2
        },
        "template": {
         "data": {
          "bar": [
           {
            "error_x": {
             "color": "#2a3f5f"
            },
            "error_y": {
             "color": "#2a3f5f"
            },
            "marker": {
             "line": {
              "color": "white",
              "width": 0.5
             },
             "pattern": {
              "fillmode": "overlay",
              "size": 10,
              "solidity": 0.2
             }
            },
            "type": "bar"
           }
          ],
          "barpolar": [
           {
            "marker": {
             "line": {
              "color": "white",
              "width": 0.5
             },
             "pattern": {
              "fillmode": "overlay",
              "size": 10,
              "solidity": 0.2
             }
            },
            "type": "barpolar"
           }
          ],
          "carpet": [
           {
            "aaxis": {
             "endlinecolor": "#2a3f5f",
             "gridcolor": "#C8D4E3",
             "linecolor": "#C8D4E3",
             "minorgridcolor": "#C8D4E3",
             "startlinecolor": "#2a3f5f"
            },
            "baxis": {
             "endlinecolor": "#2a3f5f",
             "gridcolor": "#C8D4E3",
             "linecolor": "#C8D4E3",
             "minorgridcolor": "#C8D4E3",
             "startlinecolor": "#2a3f5f"
            },
            "type": "carpet"
           }
          ],
          "choropleth": [
           {
            "colorbar": {
             "outlinewidth": 0,
             "ticks": ""
            },
            "type": "choropleth"
           }
          ],
          "contour": [
           {
            "colorbar": {
             "outlinewidth": 0,
             "ticks": ""
            },
            "colorscale": [
             [
              0,
              "#0d0887"
             ],
             [
              0.1111111111111111,
              "#46039f"
             ],
             [
              0.2222222222222222,
              "#7201a8"
             ],
             [
              0.3333333333333333,
              "#9c179e"
             ],
             [
              0.4444444444444444,
              "#bd3786"
             ],
             [
              0.5555555555555556,
              "#d8576b"
             ],
             [
              0.6666666666666666,
              "#ed7953"
             ],
             [
              0.7777777777777778,
              "#fb9f3a"
             ],
             [
              0.8888888888888888,
              "#fdca26"
             ],
             [
              1,
              "#f0f921"
             ]
            ],
            "type": "contour"
           }
          ],
          "contourcarpet": [
           {
            "colorbar": {
             "outlinewidth": 0,
             "ticks": ""
            },
            "type": "contourcarpet"
           }
          ],
          "heatmap": [
           {
            "colorbar": {
             "outlinewidth": 0,
             "ticks": ""
            },
            "colorscale": [
             [
              0,
              "#0d0887"
             ],
             [
              0.1111111111111111,
              "#46039f"
             ],
             [
              0.2222222222222222,
              "#7201a8"
             ],
             [
              0.3333333333333333,
              "#9c179e"
             ],
             [
              0.4444444444444444,
              "#bd3786"
             ],
             [
              0.5555555555555556,
              "#d8576b"
             ],
             [
              0.6666666666666666,
              "#ed7953"
             ],
             [
              0.7777777777777778,
              "#fb9f3a"
             ],
             [
              0.8888888888888888,
              "#fdca26"
             ],
             [
              1,
              "#f0f921"
             ]
            ],
            "type": "heatmap"
           }
          ],
          "heatmapgl": [
           {
            "colorbar": {
             "outlinewidth": 0,
             "ticks": ""
            },
            "colorscale": [
             [
              0,
              "#0d0887"
             ],
             [
              0.1111111111111111,
              "#46039f"
             ],
             [
              0.2222222222222222,
              "#7201a8"
             ],
             [
              0.3333333333333333,
              "#9c179e"
             ],
             [
              0.4444444444444444,
              "#bd3786"
             ],
             [
              0.5555555555555556,
              "#d8576b"
             ],
             [
              0.6666666666666666,
              "#ed7953"
             ],
             [
              0.7777777777777778,
              "#fb9f3a"
             ],
             [
              0.8888888888888888,
              "#fdca26"
             ],
             [
              1,
              "#f0f921"
             ]
            ],
            "type": "heatmapgl"
           }
          ],
          "histogram": [
           {
            "marker": {
             "pattern": {
              "fillmode": "overlay",
              "size": 10,
              "solidity": 0.2
             }
            },
            "type": "histogram"
           }
          ],
          "histogram2d": [
           {
            "colorbar": {
             "outlinewidth": 0,
             "ticks": ""
            },
            "colorscale": [
             [
              0,
              "#0d0887"
             ],
             [
              0.1111111111111111,
              "#46039f"
             ],
             [
              0.2222222222222222,
              "#7201a8"
             ],
             [
              0.3333333333333333,
              "#9c179e"
             ],
             [
              0.4444444444444444,
              "#bd3786"
             ],
             [
              0.5555555555555556,
              "#d8576b"
             ],
             [
              0.6666666666666666,
              "#ed7953"
             ],
             [
              0.7777777777777778,
              "#fb9f3a"
             ],
             [
              0.8888888888888888,
              "#fdca26"
             ],
             [
              1,
              "#f0f921"
             ]
            ],
            "type": "histogram2d"
           }
          ],
          "histogram2dcontour": [
           {
            "colorbar": {
             "outlinewidth": 0,
             "ticks": ""
            },
            "colorscale": [
             [
              0,
              "#0d0887"
             ],
             [
              0.1111111111111111,
              "#46039f"
             ],
             [
              0.2222222222222222,
              "#7201a8"
             ],
             [
              0.3333333333333333,
              "#9c179e"
             ],
             [
              0.4444444444444444,
              "#bd3786"
             ],
             [
              0.5555555555555556,
              "#d8576b"
             ],
             [
              0.6666666666666666,
              "#ed7953"
             ],
             [
              0.7777777777777778,
              "#fb9f3a"
             ],
             [
              0.8888888888888888,
              "#fdca26"
             ],
             [
              1,
              "#f0f921"
             ]
            ],
            "type": "histogram2dcontour"
           }
          ],
          "mesh3d": [
           {
            "colorbar": {
             "outlinewidth": 0,
             "ticks": ""
            },
            "type": "mesh3d"
           }
          ],
          "parcoords": [
           {
            "line": {
             "colorbar": {
              "outlinewidth": 0,
              "ticks": ""
             }
            },
            "type": "parcoords"
           }
          ],
          "pie": [
           {
            "automargin": true,
            "type": "pie"
           }
          ],
          "scatter": [
           {
            "fillpattern": {
             "fillmode": "overlay",
             "size": 10,
             "solidity": 0.2
            },
            "type": "scatter"
           }
          ],
          "scatter3d": [
           {
            "line": {
             "colorbar": {
              "outlinewidth": 0,
              "ticks": ""
             }
            },
            "marker": {
             "colorbar": {
              "outlinewidth": 0,
              "ticks": ""
             }
            },
            "type": "scatter3d"
           }
          ],
          "scattercarpet": [
           {
            "marker": {
             "colorbar": {
              "outlinewidth": 0,
              "ticks": ""
             }
            },
            "type": "scattercarpet"
           }
          ],
          "scattergeo": [
           {
            "marker": {
             "colorbar": {
              "outlinewidth": 0,
              "ticks": ""
             }
            },
            "type": "scattergeo"
           }
          ],
          "scattergl": [
           {
            "marker": {
             "colorbar": {
              "outlinewidth": 0,
              "ticks": ""
             }
            },
            "type": "scattergl"
           }
          ],
          "scattermapbox": [
           {
            "marker": {
             "colorbar": {
              "outlinewidth": 0,
              "ticks": ""
             }
            },
            "type": "scattermapbox"
           }
          ],
          "scatterpolar": [
           {
            "marker": {
             "colorbar": {
              "outlinewidth": 0,
              "ticks": ""
             }
            },
            "type": "scatterpolar"
           }
          ],
          "scatterpolargl": [
           {
            "marker": {
             "colorbar": {
              "outlinewidth": 0,
              "ticks": ""
             }
            },
            "type": "scatterpolargl"
           }
          ],
          "scatterternary": [
           {
            "marker": {
             "colorbar": {
              "outlinewidth": 0,
              "ticks": ""
             }
            },
            "type": "scatterternary"
           }
          ],
          "surface": [
           {
            "colorbar": {
             "outlinewidth": 0,
             "ticks": ""
            },
            "colorscale": [
             [
              0,
              "#0d0887"
             ],
             [
              0.1111111111111111,
              "#46039f"
             ],
             [
              0.2222222222222222,
              "#7201a8"
             ],
             [
              0.3333333333333333,
              "#9c179e"
             ],
             [
              0.4444444444444444,
              "#bd3786"
             ],
             [
              0.5555555555555556,
              "#d8576b"
             ],
             [
              0.6666666666666666,
              "#ed7953"
             ],
             [
              0.7777777777777778,
              "#fb9f3a"
             ],
             [
              0.8888888888888888,
              "#fdca26"
             ],
             [
              1,
              "#f0f921"
             ]
            ],
            "type": "surface"
           }
          ],
          "table": [
           {
            "cells": {
             "fill": {
              "color": "#EBF0F8"
             },
             "line": {
              "color": "white"
             }
            },
            "header": {
             "fill": {
              "color": "#C8D4E3"
             },
             "line": {
              "color": "white"
             }
            },
            "type": "table"
           }
          ]
         },
         "layout": {
          "annotationdefaults": {
           "arrowcolor": "#2a3f5f",
           "arrowhead": 0,
           "arrowwidth": 1
          },
          "autotypenumbers": "strict",
          "coloraxis": {
           "colorbar": {
            "outlinewidth": 0,
            "ticks": ""
           }
          },
          "colorscale": {
           "diverging": [
            [
             0,
             "#8e0152"
            ],
            [
             0.1,
             "#c51b7d"
            ],
            [
             0.2,
             "#de77ae"
            ],
            [
             0.3,
             "#f1b6da"
            ],
            [
             0.4,
             "#fde0ef"
            ],
            [
             0.5,
             "#f7f7f7"
            ],
            [
             0.6,
             "#e6f5d0"
            ],
            [
             0.7,
             "#b8e186"
            ],
            [
             0.8,
             "#7fbc41"
            ],
            [
             0.9,
             "#4d9221"
            ],
            [
             1,
             "#276419"
            ]
           ],
           "sequential": [
            [
             0,
             "#0d0887"
            ],
            [
             0.1111111111111111,
             "#46039f"
            ],
            [
             0.2222222222222222,
             "#7201a8"
            ],
            [
             0.3333333333333333,
             "#9c179e"
            ],
            [
             0.4444444444444444,
             "#bd3786"
            ],
            [
             0.5555555555555556,
             "#d8576b"
            ],
            [
             0.6666666666666666,
             "#ed7953"
            ],
            [
             0.7777777777777778,
             "#fb9f3a"
            ],
            [
             0.8888888888888888,
             "#fdca26"
            ],
            [
             1,
             "#f0f921"
            ]
           ],
           "sequentialminus": [
            [
             0,
             "#0d0887"
            ],
            [
             0.1111111111111111,
             "#46039f"
            ],
            [
             0.2222222222222222,
             "#7201a8"
            ],
            [
             0.3333333333333333,
             "#9c179e"
            ],
            [
             0.4444444444444444,
             "#bd3786"
            ],
            [
             0.5555555555555556,
             "#d8576b"
            ],
            [
             0.6666666666666666,
             "#ed7953"
            ],
            [
             0.7777777777777778,
             "#fb9f3a"
            ],
            [
             0.8888888888888888,
             "#fdca26"
            ],
            [
             1,
             "#f0f921"
            ]
           ]
          },
          "colorway": [
           "#636efa",
           "#EF553B",
           "#00cc96",
           "#ab63fa",
           "#FFA15A",
           "#19d3f3",
           "#FF6692",
           "#B6E880",
           "#FF97FF",
           "#FECB52"
          ],
          "font": {
           "color": "#2a3f5f"
          },
          "geo": {
           "bgcolor": "white",
           "lakecolor": "white",
           "landcolor": "white",
           "showlakes": true,
           "showland": true,
           "subunitcolor": "#C8D4E3"
          },
          "hoverlabel": {
           "align": "left"
          },
          "hovermode": "closest",
          "mapbox": {
           "style": "light"
          },
          "paper_bgcolor": "white",
          "plot_bgcolor": "white",
          "polar": {
           "angularaxis": {
            "gridcolor": "#EBF0F8",
            "linecolor": "#EBF0F8",
            "ticks": ""
           },
           "bgcolor": "white",
           "radialaxis": {
            "gridcolor": "#EBF0F8",
            "linecolor": "#EBF0F8",
            "ticks": ""
           }
          },
          "scene": {
           "xaxis": {
            "backgroundcolor": "white",
            "gridcolor": "#DFE8F3",
            "gridwidth": 2,
            "linecolor": "#EBF0F8",
            "showbackground": true,
            "ticks": "",
            "zerolinecolor": "#EBF0F8"
           },
           "yaxis": {
            "backgroundcolor": "white",
            "gridcolor": "#DFE8F3",
            "gridwidth": 2,
            "linecolor": "#EBF0F8",
            "showbackground": true,
            "ticks": "",
            "zerolinecolor": "#EBF0F8"
           },
           "zaxis": {
            "backgroundcolor": "white",
            "gridcolor": "#DFE8F3",
            "gridwidth": 2,
            "linecolor": "#EBF0F8",
            "showbackground": true,
            "ticks": "",
            "zerolinecolor": "#EBF0F8"
           }
          },
          "shapedefaults": {
           "line": {
            "color": "#2a3f5f"
           }
          },
          "ternary": {
           "aaxis": {
            "gridcolor": "#DFE8F3",
            "linecolor": "#A2B1C6",
            "ticks": ""
           },
           "baxis": {
            "gridcolor": "#DFE8F3",
            "linecolor": "#A2B1C6",
            "ticks": ""
           },
           "bgcolor": "white",
           "caxis": {
            "gridcolor": "#DFE8F3",
            "linecolor": "#A2B1C6",
            "ticks": ""
           }
          },
          "title": {
           "x": 0.05
          },
          "xaxis": {
           "automargin": true,
           "gridcolor": "#EBF0F8",
           "linecolor": "#EBF0F8",
           "ticks": "",
           "title": {
            "standoff": 15
           },
           "zerolinecolor": "#EBF0F8",
           "zerolinewidth": 2
          },
          "yaxis": {
           "automargin": true,
           "gridcolor": "#EBF0F8",
           "linecolor": "#EBF0F8",
           "ticks": "",
           "title": {
            "standoff": 15
           },
           "zerolinecolor": "#EBF0F8",
           "zerolinewidth": 2
          }
         }
        },
        "title": {
         "text": "Trends in User-Movie Preferences Over Time (IMDb)"
        },
        "xaxis": {
         "title": {
          "text": "Year"
         }
        },
        "yaxis": {
         "range": [
          4,
          9
         ],
         "side": "left",
         "title": {
          "text": "Bayesian Rating"
         }
        },
        "yaxis2": {
         "overlaying": "y",
         "side": "right",
         "title": {
          "text": "Number of Movies"
         }
        }
       }
      }
     },
     "metadata": {},
     "output_type": "display_data"
    }
   ],
   "source": [
    "import pandas as pd\n",
    "import plotly.graph_objs as go\n",
    "import plotly.express as px\n",
    "\n",
    "# Load IMDb datasets\n",
    "title_basics_path = \"title.basics.tsv.gz\"\n",
    "title_ratings_path = \"title.ratings.tsv.gz\"\n",
    "\n",
    "basics = pd.read_csv(title_basics_path, sep=\"\\t\", compression=\"gzip\", dtype=str, na_values=\"\\\\N\")\n",
    "ratings = pd.read_csv(title_ratings_path, sep=\"\\t\", compression=\"gzip\", dtype={\"tconst\": str, \"averageRating\": float, \"numVotes\": int})\n",
    "\n",
    "# Filter valid movies\n",
    "movies = basics[(basics[\"titleType\"] == \"movie\") & basics[\"startYear\"].notna() & basics[\"genres\"].notna()]\n",
    "movies[\"startYear\"] = pd.to_numeric(movies[\"startYear\"], errors=\"coerce\")\n",
    "movies = movies[movies[\"startYear\"].between(1990, 2024)]\n",
    "\n",
    "# Merge with ratings\n",
    "movies = pd.merge(movies, ratings, on=\"tconst\")\n",
    "\n",
    "# Explode genres\n",
    "movies[\"genres\"] = movies[\"genres\"].str.split(\",\")\n",
    "movies = movies.explode(\"genres\")\n",
    "\n",
    "# Bayesian average\n",
    "C = movies[\"averageRating\"].mean()\n",
    "m = 1000\n",
    "movies[\"bayesianRating\"] = (\n",
    "    (movies[\"numVotes\"] / (movies[\"numVotes\"] + m)) * movies[\"averageRating\"] +\n",
    "    (m / (movies[\"numVotes\"] + m)) * C\n",
    ")\n",
    "\n",
    "# Aggregate\n",
    "agg = movies.groupby([\"startYear\", \"genres\"]).agg({\n",
    "    \"tconst\": \"count\",\n",
    "    \"averageRating\": \"mean\",\n",
    "    \"numVotes\": \"sum\",\n",
    "    \"bayesianRating\": \"mean\"\n",
    "}).rename(columns={\"tconst\": \"movieCount\"}).reset_index()\n",
    "\n",
    "# Top genres\n",
    "top_genres = agg.groupby(\"genres\")[\"movieCount\"].sum().nlargest(5).index.tolist()\n",
    "agg = agg[agg[\"genres\"].isin(top_genres)]\n",
    "\n",
    "# Plotly interactive line chart for each genre\n",
    "fig = go.Figure()\n",
    "\n",
    "for genre in top_genres:\n",
    "    genre_data = agg[agg[\"genres\"] == genre]\n",
    "    \n",
    "    # Left Y-axis: Bayesian rating\n",
    "    fig.add_trace(go.Scatter(\n",
    "        x=genre_data[\"startYear\"], y=genre_data[\"bayesianRating\"],\n",
    "        mode=\"lines+markers\", name=f\"{genre} Rating\", yaxis=\"y1\"\n",
    "    ))\n",
    "    \n",
    "    # Right Y-axis: Number of movies\n",
    "    fig.add_trace(go.Scatter(\n",
    "        x=genre_data[\"startYear\"], y=genre_data[\"movieCount\"],\n",
    "        mode=\"lines\", name=f\"{genre} Count\", yaxis=\"y2\", line=dict(dash='dot')\n",
    "    ))\n",
    "\n",
    "# Layout\n",
    "fig.update_layout(\n",
    "    title=\"Trends in User-Movie Preferences Over Time (IMDb)\",\n",
    "    xaxis=dict(title=\"Year\"),\n",
    "    yaxis=dict(title=\"Bayesian Rating\", side=\"left\", range=[4, 9]),\n",
    "    yaxis2=dict(title=\"Number of Movies\", overlaying=\"y\", side=\"right\"),\n",
    "    legend=dict(orientation=\"h\", y=-0.2),\n",
    "    template=\"plotly_white\",\n",
    "    height=600\n",
    ")\n",
    "\n",
    "fig.show()\n"
   ]
  },
  {
   "cell_type": "code",
   "execution_count": 6,
   "id": "d08825dd",
   "metadata": {},
   "outputs": [
    {
     "name": "stderr",
     "output_type": "stream",
     "text": [
      "C:\\Users\\User\\AppData\\Local\\Temp\\ipykernel_30412\\2244920393.py:13: SettingWithCopyWarning:\n",
      "\n",
      "\n",
      "A value is trying to be set on a copy of a slice from a DataFrame.\n",
      "Try using .loc[row_indexer,col_indexer] = value instead\n",
      "\n",
      "See the caveats in the documentation: https://pandas.pydata.org/pandas-docs/stable/user_guide/indexing.html#returning-a-view-versus-a-copy\n",
      "\n"
     ]
    },
    {
     "data": {
      "application/vnd.plotly.v1+json": {
       "config": {
        "plotlyServerURL": "https://plot.ly"
       },
       "data": [
        {
         "mode": "lines+markers",
         "name": "Drama Rating",
         "type": "scatter",
         "visible": true,
         "x": [
          1990,
          1991,
          1992,
          1993,
          1994,
          1995,
          1996,
          1997,
          1998,
          1999,
          2000,
          2001,
          2002,
          2003,
          2004,
          2005,
          2006,
          2007,
          2008,
          2009,
          2010,
          2011,
          2012,
          2013,
          2014,
          2015,
          2016,
          2017,
          2018,
          2019,
          2020,
          2021,
          2022,
          2023,
          2024
         ],
         "y": [
          6.1885794703226535,
          6.2025351623042315,
          6.225835140662738,
          6.215823514320924,
          6.199370394348923,
          6.202539264114197,
          6.20279896241257,
          6.213841074682161,
          6.214128865263593,
          6.202952433580028,
          6.1892543141442475,
          6.188905250690683,
          6.202294649495654,
          6.188929940202808,
          6.207223026274659,
          6.182918863123605,
          6.19351273168193,
          6.1884396896570255,
          6.168377419954122,
          6.162593540611686,
          6.1670555322153575,
          6.159215240249119,
          6.157857515744248,
          6.16373000270739,
          6.159916743503575,
          6.143432388470997,
          6.161262248623131,
          6.148907152727815,
          6.154041975652394,
          6.147989558374732,
          6.106516963096723,
          6.126804940130735,
          6.166456757632026,
          6.171547563626305,
          6.195611572389721
         ],
         "yaxis": "y"
        },
        {
         "line": {
          "dash": "dot"
         },
         "mode": "lines",
         "name": "Drama Votes",
         "type": "scatter",
         "visible": true,
         "x": [
          1990,
          1991,
          1992,
          1993,
          1994,
          1995,
          1996,
          1997,
          1998,
          1999,
          2000,
          2001,
          2002,
          2003,
          2004,
          2005,
          2006,
          2007,
          2008,
          2009,
          2010,
          2011,
          2012,
          2013,
          2014,
          2015,
          2016,
          2017,
          2018,
          2019,
          2020,
          2021,
          2022,
          2023,
          2024
         ],
         "y": [
          5788272,
          5262230,
          4702922,
          8607585,
          14937172,
          11895409,
          7507397,
          12027151,
          11351138,
          14762026,
          13852449,
          14238405,
          16336618,
          12680982,
          16493823,
          14851973,
          20028014,
          17815667,
          20076899,
          16918221,
          18484799,
          20012272,
          21018431,
          20604105,
          25792219,
          19392403,
          19883899,
          19629471,
          16465474,
          21055669,
          9645416,
          13311855,
          15613903,
          12691672,
          9096807
         ],
         "yaxis": "y2"
        },
        {
         "mode": "lines+markers",
         "name": "Action Rating",
         "type": "scatter",
         "visible": false,
         "x": [
          1990,
          1991,
          1992,
          1993,
          1994,
          1995,
          1996,
          1997,
          1998,
          1999,
          2000,
          2001,
          2002,
          2003,
          2004,
          2005,
          2006,
          2007,
          2008,
          2009,
          2010,
          2011,
          2012,
          2013,
          2014,
          2015,
          2016,
          2017,
          2018,
          2019,
          2020,
          2021,
          2022,
          2023,
          2024
         ],
         "y": [
          6.0515409545561125,
          6.051251919828785,
          6.075799737138202,
          6.069573273686736,
          6.017236495675348,
          6.034404554457354,
          6.017758579491845,
          6.008117205851359,
          6.022942719462535,
          5.9969341189346945,
          5.982901084132367,
          6.012214489194371,
          5.980117630073649,
          6.033225622911921,
          6.030974189846258,
          5.971466263887433,
          5.979149540895063,
          6.005236468189535,
          6.002047239485208,
          5.9854399602553086,
          6.029817705942206,
          6.014521872893875,
          5.988890393619457,
          5.958792809672226,
          5.9922446818387325,
          5.9770134238795505,
          5.972961295109202,
          5.992228900369599,
          5.971473873640703,
          5.984092440599403,
          5.90872958009361,
          5.95573377726942,
          5.966573554898771,
          6.015863507797067,
          6.066720325588383
         ],
         "yaxis": "y"
        },
        {
         "line": {
          "dash": "dot"
         },
         "mode": "lines",
         "name": "Action Votes",
         "type": "scatter",
         "visible": false,
         "x": [
          1990,
          1991,
          1992,
          1993,
          1994,
          1995,
          1996,
          1997,
          1998,
          1999,
          2000,
          2001,
          2002,
          2003,
          2004,
          2005,
          2006,
          2007,
          2008,
          2009,
          2010,
          2011,
          2012,
          2013,
          2014,
          2015,
          2016,
          2017,
          2018,
          2019,
          2020,
          2021,
          2022,
          2023,
          2024
         ],
         "y": [
          2754332,
          2944437,
          2175196,
          3258759,
          3864934,
          4652372,
          3877414,
          6485405,
          4671375,
          6522842,
          6416048,
          5958802,
          7925704,
          11386154,
          10945167,
          10639744,
          8186630,
          9341286,
          15985837,
          12339858,
          15559389,
          16549312,
          15870156,
          16328682,
          20522086,
          14249323,
          16982011,
          16302976,
          14768028,
          12444066,
          5605412,
          12347957,
          11946658,
          9539728,
          7365466
         ],
         "yaxis": "y2"
        },
        {
         "mode": "lines+markers",
         "name": "Comedy Rating",
         "type": "scatter",
         "visible": false,
         "x": [
          1990,
          1991,
          1992,
          1993,
          1994,
          1995,
          1996,
          1997,
          1998,
          1999,
          2000,
          2001,
          2002,
          2003,
          2004,
          2005,
          2006,
          2007,
          2008,
          2009,
          2010,
          2011,
          2012,
          2013,
          2014,
          2015,
          2016,
          2017,
          2018,
          2019,
          2020,
          2021,
          2022,
          2023,
          2024
         ],
         "y": [
          6.1196097709073705,
          6.1357970537648026,
          6.137151593286916,
          6.125655838348588,
          6.0944967425511,
          6.140558186404371,
          6.11524225496464,
          6.093243379778306,
          6.1357932716763885,
          6.0939514761953335,
          6.103540781903474,
          6.103811803097241,
          6.07641623924245,
          6.087462249303685,
          6.0714984284912035,
          6.047825688533824,
          6.033119951223621,
          6.04899388862786,
          6.012606098921674,
          6.037855246637924,
          6.077530813304878,
          6.051443016660194,
          6.041020600949609,
          6.055437519093713,
          6.057783869164586,
          6.057172788892277,
          6.039019730362194,
          6.044081976211326,
          6.03732489896782,
          6.037461480017048,
          6.021256255755819,
          6.055984095960299,
          6.067737566622434,
          6.095920562074682,
          6.101407793536738
         ],
         "yaxis": "y"
        },
        {
         "line": {
          "dash": "dot"
         },
         "mode": "lines",
         "name": "Comedy Votes",
         "type": "scatter",
         "visible": false,
         "x": [
          1990,
          1991,
          1992,
          1993,
          1994,
          1995,
          1996,
          1997,
          1998,
          1999,
          2000,
          2001,
          2002,
          2003,
          2004,
          2005,
          2006,
          2007,
          2008,
          2009,
          2010,
          2011,
          2012,
          2013,
          2014,
          2015,
          2016,
          2017,
          2018,
          2019,
          2020,
          2021,
          2022,
          2023,
          2024
         ],
         "y": [
          3811243,
          3048374,
          3929068,
          4287860,
          5441289,
          5778736,
          4500662,
          5391898,
          9410593,
          7955943,
          8016339,
          9131505,
          6910275,
          10243781,
          10548852,
          9810045,
          11244355,
          11266544,
          10934956,
          12900276,
          12395036,
          13457197,
          12077740,
          14324466,
          13786855,
          10870846,
          11067242,
          10397162,
          9749678,
          10898633,
          6128898,
          7129603,
          9438722,
          8284570,
          5704298
         ],
         "yaxis": "y2"
        },
        {
         "mode": "lines+markers",
         "name": "Adventure Rating",
         "type": "scatter",
         "visible": false,
         "x": [
          1990,
          1991,
          1992,
          1993,
          1994,
          1995,
          1996,
          1997,
          1998,
          1999,
          2000,
          2001,
          2002,
          2003,
          2004,
          2005,
          2006,
          2007,
          2008,
          2009,
          2010,
          2011,
          2012,
          2013,
          2014,
          2015,
          2016,
          2017,
          2018,
          2019,
          2020,
          2021,
          2022,
          2023,
          2024
         ],
         "y": [
          6.139731460443769,
          6.114865845789944,
          6.100069023051999,
          6.111010350396267,
          6.021427595483452,
          6.18923608027314,
          6.104969295912458,
          6.036725034561439,
          6.011652059064981,
          6.0842693230543645,
          6.007776754746175,
          6.003887733350913,
          6.075677057490631,
          6.07788172274207,
          6.001645379429116,
          6.00727321781325,
          6.022523845360291,
          6.047488187985371,
          5.978463274278608,
          6.045513637403448,
          6.101535417839247,
          6.072424171064143,
          6.056639942186919,
          6.0492788025074535,
          6.089291034368552,
          6.0855246435783,
          6.046171723144374,
          5.9998267966173,
          6.033854768331307,
          6.053437868990629,
          6.0211406437310275,
          6.066298355573267,
          6.045837332777742,
          6.098618231806103,
          6.078548108461462
         ],
         "yaxis": "y"
        },
        {
         "line": {
          "dash": "dot"
         },
         "mode": "lines",
         "name": "Adventure Votes",
         "type": "scatter",
         "visible": false,
         "x": [
          1990,
          1991,
          1992,
          1993,
          1994,
          1995,
          1996,
          1997,
          1998,
          1999,
          2000,
          2001,
          2002,
          2003,
          2004,
          2005,
          2006,
          2007,
          2008,
          2009,
          2010,
          2011,
          2012,
          2013,
          2014,
          2015,
          2016,
          2017,
          2018,
          2019,
          2020,
          2021,
          2022,
          2023,
          2024
         ],
         "y": [
          1937330,
          2550261,
          1631160,
          2271835,
          2780269,
          4550807,
          3369258,
          4592701,
          3178403,
          4511333,
          6881267,
          8722297,
          8270464,
          8403561,
          8651013,
          7783634,
          8234199,
          8577131,
          9368026,
          11615483,
          12538765,
          10375930,
          11318504,
          12388189,
          16386422,
          13708029,
          12085363,
          10801189,
          12349844,
          9668619,
          3288964,
          9115714,
          7627034,
          7616777,
          4935114
         ],
         "yaxis": "y2"
        },
        {
         "mode": "lines+markers",
         "name": "Crime Rating",
         "type": "scatter",
         "visible": false,
         "x": [
          1990,
          1991,
          1992,
          1993,
          1994,
          1995,
          1996,
          1997,
          1998,
          1999,
          2000,
          2001,
          2002,
          2003,
          2004,
          2005,
          2006,
          2007,
          2008,
          2009,
          2010,
          2011,
          2012,
          2013,
          2014,
          2015,
          2016,
          2017,
          2018,
          2019,
          2020,
          2021,
          2022,
          2023,
          2024
         ],
         "y": [
          6.138484018277677,
          6.173289157762496,
          6.202549607603658,
          6.09389459763841,
          6.13022559765978,
          6.173466038516624,
          6.1711320105633645,
          6.15372042057271,
          6.179379944423738,
          6.162914896493442,
          6.09055873664932,
          6.115411055086448,
          6.156630383265776,
          6.20188172552468,
          6.141595887731824,
          6.159714771215772,
          6.175879278809899,
          6.155672800905683,
          6.126503393347147,
          6.122959146999558,
          6.096804618088995,
          6.1121159270566014,
          6.119671669131835,
          6.148527658504848,
          6.128192246614347,
          6.085462116341552,
          6.110911803166438,
          6.079220812048608,
          6.094845597013224,
          6.078621747063188,
          6.008389051833712,
          6.056952985396078,
          6.10558505620906,
          6.116189155937248,
          6.132446877453965
         ],
         "yaxis": "y"
        },
        {
         "line": {
          "dash": "dot"
         },
         "mode": "lines",
         "name": "Crime Votes",
         "type": "scatter",
         "visible": false,
         "x": [
          1990,
          1991,
          1992,
          1993,
          1994,
          1995,
          1996,
          1997,
          1998,
          1999,
          2000,
          2001,
          2002,
          2003,
          2004,
          2005,
          2006,
          2007,
          2008,
          2009,
          2010,
          2011,
          2012,
          2013,
          2014,
          2015,
          2016,
          2017,
          2018,
          2019,
          2020,
          2021,
          2022,
          2023,
          2024
         ],
         "y": [
          3405574,
          3456331,
          3445318,
          2747596,
          6173299,
          7330477,
          4220275,
          4489490,
          5980702,
          6791225,
          4967239,
          5292172,
          7183424,
          6455957,
          5276602,
          7659144,
          6414363,
          8065976,
          10074584,
          4332616,
          5606887,
          5013855,
          7492137,
          10195005,
          7087945,
          5789550,
          5573824,
          7508906,
          4859722,
          8089852,
          3269118,
          5141540,
          4838270,
          4525024,
          3024543
         ],
         "yaxis": "y2"
        },
        {
         "mode": "lines+markers",
         "name": "Thriller Rating",
         "type": "scatter",
         "visible": false,
         "x": [
          1990,
          1991,
          1992,
          1993,
          1994,
          1995,
          1996,
          1997,
          1998,
          1999,
          2000,
          2001,
          2002,
          2003,
          2004,
          2005,
          2006,
          2007,
          2008,
          2009,
          2010,
          2011,
          2012,
          2013,
          2014,
          2015,
          2016,
          2017,
          2018,
          2019,
          2020,
          2021,
          2022,
          2023,
          2024
         ],
         "y": [
          6.0816631538096875,
          6.003852391690483,
          6.068351786027564,
          6.0206477362589,
          5.973231784555339,
          5.965462879902371,
          5.969369501695802,
          6.032078814442043,
          5.994716314677972,
          6.037708925321227,
          5.974617744826463,
          5.9817161594021595,
          5.981900988121146,
          5.982292482651686,
          6.022838048498285,
          6.003286534124075,
          5.9033623131863076,
          5.9819527582973695,
          5.973186468487671,
          5.92846397335845,
          5.926888852195289,
          5.9666374823174175,
          5.945937471341876,
          5.955186543095869,
          5.963369363276146,
          5.932861631289239,
          5.936194748793871,
          5.926462251033371,
          5.921502929085608,
          5.914017621498928,
          5.840161264353822,
          5.8844943676218024,
          5.971454455725712,
          6.008136294076917,
          6.0563472646474645
         ],
         "yaxis": "y"
        },
        {
         "line": {
          "dash": "dot"
         },
         "mode": "lines",
         "name": "Thriller Votes",
         "type": "scatter",
         "visible": false,
         "x": [
          1990,
          1991,
          1992,
          1993,
          1994,
          1995,
          1996,
          1997,
          1998,
          1999,
          2000,
          2001,
          2002,
          2003,
          2004,
          2005,
          2006,
          2007,
          2008,
          2009,
          2010,
          2011,
          2012,
          2013,
          2014,
          2015,
          2016,
          2017,
          2018,
          2019,
          2020,
          2021,
          2022,
          2023,
          2024
         ],
         "y": [
          1769696,
          1118289,
          2894402,
          1760815,
          1321223,
          2513177,
          3460123,
          2931702,
          2674960,
          5940399,
          4705101,
          4513284,
          4629291,
          5151768,
          5933071,
          4394326,
          8372027,
          8571655,
          6556608,
          6671945,
          7615181,
          7485056,
          7059254,
          8651831,
          9609734,
          5446592,
          5924462,
          6401762,
          4790876,
          7547992,
          3572172,
          5620142,
          5730594,
          5680751,
          4720795
         ],
         "yaxis": "y2"
        },
        {
         "mode": "lines+markers",
         "name": "Sci-Fi Rating",
         "type": "scatter",
         "visible": false,
         "x": [
          1990,
          1991,
          1992,
          1993,
          1994,
          1995,
          1996,
          1997,
          1998,
          1999,
          2000,
          2001,
          2002,
          2003,
          2004,
          2005,
          2006,
          2007,
          2008,
          2009,
          2010,
          2011,
          2012,
          2013,
          2014,
          2015,
          2016,
          2017,
          2018,
          2019,
          2020,
          2021,
          2022,
          2023,
          2024
         ],
         "y": [
          5.786017020865864,
          5.821454072868666,
          5.867038807847963,
          5.720595383878783,
          5.7160240955967865,
          5.796391363633903,
          5.675012268347999,
          5.8683700025625,
          5.834011874523154,
          5.773282617927614,
          5.779050327252585,
          5.836083360717,
          5.8714746789458285,
          5.862994916282236,
          5.883879032734309,
          5.900745441557749,
          5.818151252826715,
          5.939745471121492,
          5.761547870691925,
          5.870145408487995,
          5.883929696074076,
          5.946086027944481,
          5.882599750513345,
          5.890855068905228,
          5.853316655587503,
          5.868187846063813,
          5.830727751454402,
          5.82445915120989,
          5.836874998591029,
          5.8662366353970885,
          5.749472493266773,
          5.772457611130252,
          5.878886388932778,
          5.919958256320883,
          5.986378451560694
         ],
         "yaxis": "y"
        },
        {
         "line": {
          "dash": "dot"
         },
         "mode": "lines",
         "name": "Sci-Fi Votes",
         "type": "scatter",
         "visible": false,
         "x": [
          1990,
          1991,
          1992,
          1993,
          1994,
          1995,
          1996,
          1997,
          1998,
          1999,
          2000,
          2001,
          2002,
          2003,
          2004,
          2005,
          2006,
          2007,
          2008,
          2009,
          2010,
          2011,
          2012,
          2013,
          2014,
          2015,
          2016,
          2017,
          2018,
          2019,
          2020,
          2021,
          2022,
          2023,
          2024
         ],
         "y": [
          1479691,
          1437867,
          656002,
          1545463,
          455647,
          1498194,
          1398457,
          3862354,
          2182053,
          3255724,
          2296426,
          2564363,
          3341536,
          3016495,
          5015230,
          3154892,
          4170081,
          4021862,
          3971304,
          5257781,
          5010279,
          6180928,
          7147546,
          9459836,
          9817361,
          8599807,
          7474623,
          3166323,
          7546161,
          4427144,
          1775529,
          2831191,
          1227915,
          1135904,
          1726472
         ],
         "yaxis": "y2"
        },
        {
         "mode": "lines+markers",
         "name": "Romance Rating",
         "type": "scatter",
         "visible": false,
         "x": [
          1990,
          1991,
          1992,
          1993,
          1994,
          1995,
          1996,
          1997,
          1998,
          1999,
          2000,
          2001,
          2002,
          2003,
          2004,
          2005,
          2006,
          2007,
          2008,
          2009,
          2010,
          2011,
          2012,
          2013,
          2014,
          2015,
          2016,
          2017,
          2018,
          2019,
          2020,
          2021,
          2022,
          2023,
          2024
         ],
         "y": [
          6.148277328598173,
          6.1978826464581624,
          6.210971904433893,
          6.155453294470996,
          6.1844554880372105,
          6.194274591515853,
          6.170412402656635,
          6.192638406687981,
          6.212057243756231,
          6.14049096705384,
          6.168530587578714,
          6.160720188796966,
          6.118647776155275,
          6.123700272251606,
          6.170045164299102,
          6.089051409007612,
          6.134384094002888,
          6.129821101727026,
          6.121603066916576,
          6.090831379717212,
          6.130689121283573,
          6.127621806897981,
          6.124003422258773,
          6.130833721847906,
          6.098200585035828,
          6.11150058080786,
          6.1319432666557,
          6.092511401222256,
          6.108491998821016,
          6.126172409072054,
          6.092000759045883,
          6.115717109209188,
          6.111016758119177,
          6.140598359569687,
          6.167595492067729
         ],
         "yaxis": "y"
        },
        {
         "line": {
          "dash": "dot"
         },
         "mode": "lines",
         "name": "Romance Votes",
         "type": "scatter",
         "visible": false,
         "x": [
          1990,
          1991,
          1992,
          1993,
          1994,
          1995,
          1996,
          1997,
          1998,
          1999,
          2000,
          2001,
          2002,
          2003,
          2004,
          2005,
          2006,
          2007,
          2008,
          2009,
          2010,
          2011,
          2012,
          2013,
          2014,
          2015,
          2016,
          2017,
          2018,
          2019,
          2020,
          2021,
          2022,
          2023,
          2024
         ],
         "y": [
          1655191,
          776363,
          1326564,
          1726597,
          4286965,
          2380601,
          1824598,
          4792934,
          2783938,
          3551964,
          3372948,
          4631060,
          3599643,
          3126323,
          7098066,
          5247028,
          3892817,
          4063707,
          6956445,
          5470414,
          5456339,
          5860099,
          4841201,
          4865626,
          4256041,
          3520720,
          3422691,
          2698729,
          2994495,
          2838032,
          1700757,
          1801108,
          2426430,
          2607261,
          1832075
         ],
         "yaxis": "y2"
        },
        {
         "mode": "lines+markers",
         "name": "Mystery Rating",
         "type": "scatter",
         "visible": false,
         "x": [
          1990,
          1991,
          1992,
          1993,
          1994,
          1995,
          1996,
          1997,
          1998,
          1999,
          2000,
          2001,
          2002,
          2003,
          2004,
          2005,
          2006,
          2007,
          2008,
          2009,
          2010,
          2011,
          2012,
          2013,
          2014,
          2015,
          2016,
          2017,
          2018,
          2019,
          2020,
          2021,
          2022,
          2023,
          2024
         ],
         "y": [
          6.127099460988044,
          6.078669123813676,
          6.075151275454083,
          6.120305811884097,
          6.04101055338781,
          6.123415831243758,
          6.137395098591625,
          6.2320508000578485,
          6.023715109303226,
          6.191834476207516,
          6.032297645527433,
          6.0824370594136035,
          6.1271443089783215,
          6.078314572303995,
          6.054201581690422,
          6.020202144398404,
          5.9923429036172084,
          6.117723839345708,
          6.02337164736487,
          6.0440279734434865,
          6.001133932604214,
          6.0562499717247755,
          5.995735960064059,
          6.044192993450326,
          5.98864255323038,
          5.942911969966719,
          5.946301334831542,
          5.958655659791723,
          5.911032169943705,
          5.899812257911475,
          5.871983209243916,
          5.879545912737955,
          5.978870297447614,
          5.987003502814614,
          6.034417446611153
         ],
         "yaxis": "y"
        },
        {
         "line": {
          "dash": "dot"
         },
         "mode": "lines",
         "name": "Mystery Votes",
         "type": "scatter",
         "visible": false,
         "x": [
          1990,
          1991,
          1992,
          1993,
          1994,
          1995,
          1996,
          1997,
          1998,
          1999,
          2000,
          2001,
          2002,
          2003,
          2004,
          2005,
          2006,
          2007,
          2008,
          2009,
          2010,
          2011,
          2012,
          2013,
          2014,
          2015,
          2016,
          2017,
          2018,
          2019,
          2020,
          2021,
          2022,
          2023,
          2024
         ],
         "y": [
          334640,
          330424,
          581371,
          674490,
          496115,
          4139290,
          1077542,
          3209860,
          1609561,
          3807202,
          2934773,
          4691292,
          3840598,
          2695742,
          3768318,
          2474511,
          4992182,
          6079743,
          2866506,
          5675525,
          3932785,
          5613513,
          3181680,
          4811174,
          5405618,
          3043293,
          3454476,
          5161855,
          4284402,
          4447976,
          2869754,
          3047486,
          4147620,
          2246379,
          1798371
         ],
         "yaxis": "y2"
        },
        {
         "mode": "lines+markers",
         "name": "Horror Rating",
         "type": "scatter",
         "visible": false,
         "x": [
          1990,
          1991,
          1992,
          1993,
          1994,
          1995,
          1996,
          1997,
          1998,
          1999,
          2000,
          2001,
          2002,
          2003,
          2004,
          2005,
          2006,
          2007,
          2008,
          2009,
          2010,
          2011,
          2012,
          2013,
          2014,
          2015,
          2016,
          2017,
          2018,
          2019,
          2020,
          2021,
          2022,
          2023,
          2024
         ],
         "y": [
          5.824132415846421,
          5.8619569091355,
          5.949535151449821,
          5.8909330974730985,
          5.934968073957501,
          5.8733195266999285,
          5.871411561862937,
          5.907249964307964,
          5.816927404161633,
          5.916267959757403,
          5.8621867964572765,
          5.8075962780883215,
          5.831870527235887,
          5.7931670276537455,
          5.75884686589765,
          5.750116254432044,
          5.702050133507205,
          5.777250560298617,
          5.776215966980763,
          5.7917226001216084,
          5.798148533670629,
          5.79874896128893,
          5.800935287772953,
          5.78351011255959,
          5.788274447339142,
          5.7510179406687705,
          5.775124478926191,
          5.78335208493408,
          5.777448262020206,
          5.760338233134055,
          5.744319673971152,
          5.765271158165366,
          5.8284847630389764,
          5.868522606109335,
          5.951031524227315
         ],
         "yaxis": "y"
        },
        {
         "line": {
          "dash": "dot"
         },
         "mode": "lines",
         "name": "Horror Votes",
         "type": "scatter",
         "visible": false,
         "x": [
          1990,
          1991,
          1992,
          1993,
          1994,
          1995,
          1996,
          1997,
          1998,
          1999,
          2000,
          2001,
          2002,
          2003,
          2004,
          2005,
          2006,
          2007,
          2008,
          2009,
          2010,
          2011,
          2012,
          2013,
          2014,
          2015,
          2016,
          2017,
          2018,
          2019,
          2020,
          2021,
          2022,
          2023,
          2024
         ],
         "y": [
          1303382,
          1941727,
          1611035,
          271698,
          814975,
          512527,
          1170729,
          1638404,
          1420880,
          1705992,
          2421121,
          1566555,
          2448416,
          1594248,
          3020713,
          3215709,
          2517412,
          5865501,
          2634959,
          4179210,
          3097355,
          2867533,
          2951614,
          4843579,
          3286711,
          3046697,
          5093654,
          5419161,
          5142423,
          5811019,
          3136843,
          3034889,
          4967083,
          2825022,
          3765861
         ],
         "yaxis": "y2"
        }
       ],
       "layout": {
        "height": 600,
        "legend": {
         "orientation": "h",
         "y": -0.25
        },
        "template": {
         "data": {
          "bar": [
           {
            "error_x": {
             "color": "#2a3f5f"
            },
            "error_y": {
             "color": "#2a3f5f"
            },
            "marker": {
             "line": {
              "color": "white",
              "width": 0.5
             },
             "pattern": {
              "fillmode": "overlay",
              "size": 10,
              "solidity": 0.2
             }
            },
            "type": "bar"
           }
          ],
          "barpolar": [
           {
            "marker": {
             "line": {
              "color": "white",
              "width": 0.5
             },
             "pattern": {
              "fillmode": "overlay",
              "size": 10,
              "solidity": 0.2
             }
            },
            "type": "barpolar"
           }
          ],
          "carpet": [
           {
            "aaxis": {
             "endlinecolor": "#2a3f5f",
             "gridcolor": "#C8D4E3",
             "linecolor": "#C8D4E3",
             "minorgridcolor": "#C8D4E3",
             "startlinecolor": "#2a3f5f"
            },
            "baxis": {
             "endlinecolor": "#2a3f5f",
             "gridcolor": "#C8D4E3",
             "linecolor": "#C8D4E3",
             "minorgridcolor": "#C8D4E3",
             "startlinecolor": "#2a3f5f"
            },
            "type": "carpet"
           }
          ],
          "choropleth": [
           {
            "colorbar": {
             "outlinewidth": 0,
             "ticks": ""
            },
            "type": "choropleth"
           }
          ],
          "contour": [
           {
            "colorbar": {
             "outlinewidth": 0,
             "ticks": ""
            },
            "colorscale": [
             [
              0,
              "#0d0887"
             ],
             [
              0.1111111111111111,
              "#46039f"
             ],
             [
              0.2222222222222222,
              "#7201a8"
             ],
             [
              0.3333333333333333,
              "#9c179e"
             ],
             [
              0.4444444444444444,
              "#bd3786"
             ],
             [
              0.5555555555555556,
              "#d8576b"
             ],
             [
              0.6666666666666666,
              "#ed7953"
             ],
             [
              0.7777777777777778,
              "#fb9f3a"
             ],
             [
              0.8888888888888888,
              "#fdca26"
             ],
             [
              1,
              "#f0f921"
             ]
            ],
            "type": "contour"
           }
          ],
          "contourcarpet": [
           {
            "colorbar": {
             "outlinewidth": 0,
             "ticks": ""
            },
            "type": "contourcarpet"
           }
          ],
          "heatmap": [
           {
            "colorbar": {
             "outlinewidth": 0,
             "ticks": ""
            },
            "colorscale": [
             [
              0,
              "#0d0887"
             ],
             [
              0.1111111111111111,
              "#46039f"
             ],
             [
              0.2222222222222222,
              "#7201a8"
             ],
             [
              0.3333333333333333,
              "#9c179e"
             ],
             [
              0.4444444444444444,
              "#bd3786"
             ],
             [
              0.5555555555555556,
              "#d8576b"
             ],
             [
              0.6666666666666666,
              "#ed7953"
             ],
             [
              0.7777777777777778,
              "#fb9f3a"
             ],
             [
              0.8888888888888888,
              "#fdca26"
             ],
             [
              1,
              "#f0f921"
             ]
            ],
            "type": "heatmap"
           }
          ],
          "heatmapgl": [
           {
            "colorbar": {
             "outlinewidth": 0,
             "ticks": ""
            },
            "colorscale": [
             [
              0,
              "#0d0887"
             ],
             [
              0.1111111111111111,
              "#46039f"
             ],
             [
              0.2222222222222222,
              "#7201a8"
             ],
             [
              0.3333333333333333,
              "#9c179e"
             ],
             [
              0.4444444444444444,
              "#bd3786"
             ],
             [
              0.5555555555555556,
              "#d8576b"
             ],
             [
              0.6666666666666666,
              "#ed7953"
             ],
             [
              0.7777777777777778,
              "#fb9f3a"
             ],
             [
              0.8888888888888888,
              "#fdca26"
             ],
             [
              1,
              "#f0f921"
             ]
            ],
            "type": "heatmapgl"
           }
          ],
          "histogram": [
           {
            "marker": {
             "pattern": {
              "fillmode": "overlay",
              "size": 10,
              "solidity": 0.2
             }
            },
            "type": "histogram"
           }
          ],
          "histogram2d": [
           {
            "colorbar": {
             "outlinewidth": 0,
             "ticks": ""
            },
            "colorscale": [
             [
              0,
              "#0d0887"
             ],
             [
              0.1111111111111111,
              "#46039f"
             ],
             [
              0.2222222222222222,
              "#7201a8"
             ],
             [
              0.3333333333333333,
              "#9c179e"
             ],
             [
              0.4444444444444444,
              "#bd3786"
             ],
             [
              0.5555555555555556,
              "#d8576b"
             ],
             [
              0.6666666666666666,
              "#ed7953"
             ],
             [
              0.7777777777777778,
              "#fb9f3a"
             ],
             [
              0.8888888888888888,
              "#fdca26"
             ],
             [
              1,
              "#f0f921"
             ]
            ],
            "type": "histogram2d"
           }
          ],
          "histogram2dcontour": [
           {
            "colorbar": {
             "outlinewidth": 0,
             "ticks": ""
            },
            "colorscale": [
             [
              0,
              "#0d0887"
             ],
             [
              0.1111111111111111,
              "#46039f"
             ],
             [
              0.2222222222222222,
              "#7201a8"
             ],
             [
              0.3333333333333333,
              "#9c179e"
             ],
             [
              0.4444444444444444,
              "#bd3786"
             ],
             [
              0.5555555555555556,
              "#d8576b"
             ],
             [
              0.6666666666666666,
              "#ed7953"
             ],
             [
              0.7777777777777778,
              "#fb9f3a"
             ],
             [
              0.8888888888888888,
              "#fdca26"
             ],
             [
              1,
              "#f0f921"
             ]
            ],
            "type": "histogram2dcontour"
           }
          ],
          "mesh3d": [
           {
            "colorbar": {
             "outlinewidth": 0,
             "ticks": ""
            },
            "type": "mesh3d"
           }
          ],
          "parcoords": [
           {
            "line": {
             "colorbar": {
              "outlinewidth": 0,
              "ticks": ""
             }
            },
            "type": "parcoords"
           }
          ],
          "pie": [
           {
            "automargin": true,
            "type": "pie"
           }
          ],
          "scatter": [
           {
            "fillpattern": {
             "fillmode": "overlay",
             "size": 10,
             "solidity": 0.2
            },
            "type": "scatter"
           }
          ],
          "scatter3d": [
           {
            "line": {
             "colorbar": {
              "outlinewidth": 0,
              "ticks": ""
             }
            },
            "marker": {
             "colorbar": {
              "outlinewidth": 0,
              "ticks": ""
             }
            },
            "type": "scatter3d"
           }
          ],
          "scattercarpet": [
           {
            "marker": {
             "colorbar": {
              "outlinewidth": 0,
              "ticks": ""
             }
            },
            "type": "scattercarpet"
           }
          ],
          "scattergeo": [
           {
            "marker": {
             "colorbar": {
              "outlinewidth": 0,
              "ticks": ""
             }
            },
            "type": "scattergeo"
           }
          ],
          "scattergl": [
           {
            "marker": {
             "colorbar": {
              "outlinewidth": 0,
              "ticks": ""
             }
            },
            "type": "scattergl"
           }
          ],
          "scattermapbox": [
           {
            "marker": {
             "colorbar": {
              "outlinewidth": 0,
              "ticks": ""
             }
            },
            "type": "scattermapbox"
           }
          ],
          "scatterpolar": [
           {
            "marker": {
             "colorbar": {
              "outlinewidth": 0,
              "ticks": ""
             }
            },
            "type": "scatterpolar"
           }
          ],
          "scatterpolargl": [
           {
            "marker": {
             "colorbar": {
              "outlinewidth": 0,
              "ticks": ""
             }
            },
            "type": "scatterpolargl"
           }
          ],
          "scatterternary": [
           {
            "marker": {
             "colorbar": {
              "outlinewidth": 0,
              "ticks": ""
             }
            },
            "type": "scatterternary"
           }
          ],
          "surface": [
           {
            "colorbar": {
             "outlinewidth": 0,
             "ticks": ""
            },
            "colorscale": [
             [
              0,
              "#0d0887"
             ],
             [
              0.1111111111111111,
              "#46039f"
             ],
             [
              0.2222222222222222,
              "#7201a8"
             ],
             [
              0.3333333333333333,
              "#9c179e"
             ],
             [
              0.4444444444444444,
              "#bd3786"
             ],
             [
              0.5555555555555556,
              "#d8576b"
             ],
             [
              0.6666666666666666,
              "#ed7953"
             ],
             [
              0.7777777777777778,
              "#fb9f3a"
             ],
             [
              0.8888888888888888,
              "#fdca26"
             ],
             [
              1,
              "#f0f921"
             ]
            ],
            "type": "surface"
           }
          ],
          "table": [
           {
            "cells": {
             "fill": {
              "color": "#EBF0F8"
             },
             "line": {
              "color": "white"
             }
            },
            "header": {
             "fill": {
              "color": "#C8D4E3"
             },
             "line": {
              "color": "white"
             }
            },
            "type": "table"
           }
          ]
         },
         "layout": {
          "annotationdefaults": {
           "arrowcolor": "#2a3f5f",
           "arrowhead": 0,
           "arrowwidth": 1
          },
          "autotypenumbers": "strict",
          "coloraxis": {
           "colorbar": {
            "outlinewidth": 0,
            "ticks": ""
           }
          },
          "colorscale": {
           "diverging": [
            [
             0,
             "#8e0152"
            ],
            [
             0.1,
             "#c51b7d"
            ],
            [
             0.2,
             "#de77ae"
            ],
            [
             0.3,
             "#f1b6da"
            ],
            [
             0.4,
             "#fde0ef"
            ],
            [
             0.5,
             "#f7f7f7"
            ],
            [
             0.6,
             "#e6f5d0"
            ],
            [
             0.7,
             "#b8e186"
            ],
            [
             0.8,
             "#7fbc41"
            ],
            [
             0.9,
             "#4d9221"
            ],
            [
             1,
             "#276419"
            ]
           ],
           "sequential": [
            [
             0,
             "#0d0887"
            ],
            [
             0.1111111111111111,
             "#46039f"
            ],
            [
             0.2222222222222222,
             "#7201a8"
            ],
            [
             0.3333333333333333,
             "#9c179e"
            ],
            [
             0.4444444444444444,
             "#bd3786"
            ],
            [
             0.5555555555555556,
             "#d8576b"
            ],
            [
             0.6666666666666666,
             "#ed7953"
            ],
            [
             0.7777777777777778,
             "#fb9f3a"
            ],
            [
             0.8888888888888888,
             "#fdca26"
            ],
            [
             1,
             "#f0f921"
            ]
           ],
           "sequentialminus": [
            [
             0,
             "#0d0887"
            ],
            [
             0.1111111111111111,
             "#46039f"
            ],
            [
             0.2222222222222222,
             "#7201a8"
            ],
            [
             0.3333333333333333,
             "#9c179e"
            ],
            [
             0.4444444444444444,
             "#bd3786"
            ],
            [
             0.5555555555555556,
             "#d8576b"
            ],
            [
             0.6666666666666666,
             "#ed7953"
            ],
            [
             0.7777777777777778,
             "#fb9f3a"
            ],
            [
             0.8888888888888888,
             "#fdca26"
            ],
            [
             1,
             "#f0f921"
            ]
           ]
          },
          "colorway": [
           "#636efa",
           "#EF553B",
           "#00cc96",
           "#ab63fa",
           "#FFA15A",
           "#19d3f3",
           "#FF6692",
           "#B6E880",
           "#FF97FF",
           "#FECB52"
          ],
          "font": {
           "color": "#2a3f5f"
          },
          "geo": {
           "bgcolor": "white",
           "lakecolor": "white",
           "landcolor": "white",
           "showlakes": true,
           "showland": true,
           "subunitcolor": "#C8D4E3"
          },
          "hoverlabel": {
           "align": "left"
          },
          "hovermode": "closest",
          "mapbox": {
           "style": "light"
          },
          "paper_bgcolor": "white",
          "plot_bgcolor": "white",
          "polar": {
           "angularaxis": {
            "gridcolor": "#EBF0F8",
            "linecolor": "#EBF0F8",
            "ticks": ""
           },
           "bgcolor": "white",
           "radialaxis": {
            "gridcolor": "#EBF0F8",
            "linecolor": "#EBF0F8",
            "ticks": ""
           }
          },
          "scene": {
           "xaxis": {
            "backgroundcolor": "white",
            "gridcolor": "#DFE8F3",
            "gridwidth": 2,
            "linecolor": "#EBF0F8",
            "showbackground": true,
            "ticks": "",
            "zerolinecolor": "#EBF0F8"
           },
           "yaxis": {
            "backgroundcolor": "white",
            "gridcolor": "#DFE8F3",
            "gridwidth": 2,
            "linecolor": "#EBF0F8",
            "showbackground": true,
            "ticks": "",
            "zerolinecolor": "#EBF0F8"
           },
           "zaxis": {
            "backgroundcolor": "white",
            "gridcolor": "#DFE8F3",
            "gridwidth": 2,
            "linecolor": "#EBF0F8",
            "showbackground": true,
            "ticks": "",
            "zerolinecolor": "#EBF0F8"
           }
          },
          "shapedefaults": {
           "line": {
            "color": "#2a3f5f"
           }
          },
          "ternary": {
           "aaxis": {
            "gridcolor": "#DFE8F3",
            "linecolor": "#A2B1C6",
            "ticks": ""
           },
           "baxis": {
            "gridcolor": "#DFE8F3",
            "linecolor": "#A2B1C6",
            "ticks": ""
           },
           "bgcolor": "white",
           "caxis": {
            "gridcolor": "#DFE8F3",
            "linecolor": "#A2B1C6",
            "ticks": ""
           }
          },
          "title": {
           "x": 0.05
          },
          "xaxis": {
           "automargin": true,
           "gridcolor": "#EBF0F8",
           "linecolor": "#EBF0F8",
           "ticks": "",
           "title": {
            "standoff": 15
           },
           "zerolinecolor": "#EBF0F8",
           "zerolinewidth": 2
          },
          "yaxis": {
           "automargin": true,
           "gridcolor": "#EBF0F8",
           "linecolor": "#EBF0F8",
           "ticks": "",
           "title": {
            "standoff": 15
           },
           "zerolinecolor": "#EBF0F8",
           "zerolinewidth": 2
          }
         }
        },
        "title": {
         "text": "User Preferences Over Time – Drama"
        },
        "updatemenus": [
         {
          "active": 0,
          "buttons": [
           {
            "args": [
             {
              "visible": [
               true,
               true,
               false,
               false,
               false,
               false,
               false,
               false,
               false,
               false,
               false,
               false,
               false,
               false,
               false,
               false,
               false,
               false,
               false,
               false
              ]
             },
             {
              "title": "User Preferences Over Time – Drama"
             }
            ],
            "label": "Drama",
            "method": "update"
           },
           {
            "args": [
             {
              "visible": [
               false,
               false,
               true,
               true,
               false,
               false,
               false,
               false,
               false,
               false,
               false,
               false,
               false,
               false,
               false,
               false,
               false,
               false,
               false,
               false
              ]
             },
             {
              "title": "User Preferences Over Time – Action"
             }
            ],
            "label": "Action",
            "method": "update"
           },
           {
            "args": [
             {
              "visible": [
               false,
               false,
               false,
               false,
               true,
               true,
               false,
               false,
               false,
               false,
               false,
               false,
               false,
               false,
               false,
               false,
               false,
               false,
               false,
               false
              ]
             },
             {
              "title": "User Preferences Over Time – Comedy"
             }
            ],
            "label": "Comedy",
            "method": "update"
           },
           {
            "args": [
             {
              "visible": [
               false,
               false,
               false,
               false,
               false,
               false,
               true,
               true,
               false,
               false,
               false,
               false,
               false,
               false,
               false,
               false,
               false,
               false,
               false,
               false
              ]
             },
             {
              "title": "User Preferences Over Time – Adventure"
             }
            ],
            "label": "Adventure",
            "method": "update"
           },
           {
            "args": [
             {
              "visible": [
               false,
               false,
               false,
               false,
               false,
               false,
               false,
               false,
               true,
               true,
               false,
               false,
               false,
               false,
               false,
               false,
               false,
               false,
               false,
               false
              ]
             },
             {
              "title": "User Preferences Over Time – Crime"
             }
            ],
            "label": "Crime",
            "method": "update"
           },
           {
            "args": [
             {
              "visible": [
               false,
               false,
               false,
               false,
               false,
               false,
               false,
               false,
               false,
               false,
               true,
               true,
               false,
               false,
               false,
               false,
               false,
               false,
               false,
               false
              ]
             },
             {
              "title": "User Preferences Over Time – Thriller"
             }
            ],
            "label": "Thriller",
            "method": "update"
           },
           {
            "args": [
             {
              "visible": [
               false,
               false,
               false,
               false,
               false,
               false,
               false,
               false,
               false,
               false,
               false,
               false,
               true,
               true,
               false,
               false,
               false,
               false,
               false,
               false
              ]
             },
             {
              "title": "User Preferences Over Time – Sci-Fi"
             }
            ],
            "label": "Sci-Fi",
            "method": "update"
           },
           {
            "args": [
             {
              "visible": [
               false,
               false,
               false,
               false,
               false,
               false,
               false,
               false,
               false,
               false,
               false,
               false,
               false,
               false,
               true,
               true,
               false,
               false,
               false,
               false
              ]
             },
             {
              "title": "User Preferences Over Time – Romance"
             }
            ],
            "label": "Romance",
            "method": "update"
           },
           {
            "args": [
             {
              "visible": [
               false,
               false,
               false,
               false,
               false,
               false,
               false,
               false,
               false,
               false,
               false,
               false,
               false,
               false,
               false,
               false,
               true,
               true,
               false,
               false
              ]
             },
             {
              "title": "User Preferences Over Time – Mystery"
             }
            ],
            "label": "Mystery",
            "method": "update"
           },
           {
            "args": [
             {
              "visible": [
               false,
               false,
               false,
               false,
               false,
               false,
               false,
               false,
               false,
               false,
               false,
               false,
               false,
               false,
               false,
               false,
               false,
               false,
               true,
               true
              ]
             },
             {
              "title": "User Preferences Over Time – Horror"
             }
            ],
            "label": "Horror",
            "method": "update"
           }
          ],
          "x": 0.1,
          "y": 1.2
         }
        ],
        "xaxis": {
         "rangeslider": {
          "visible": true
         },
         "title": {
          "text": "Year"
         }
        },
        "yaxis": {
         "range": [
          4,
          9
         ],
         "side": "left",
         "title": {
          "text": "Bayesian Rating"
         }
        },
        "yaxis2": {
         "overlaying": "y",
         "side": "right",
         "title": {
          "text": "Number of Votes"
         }
        }
       }
      }
     },
     "metadata": {},
     "output_type": "display_data"
    }
   ],
   "source": [
    "import pandas as pd\n",
    "import plotly.graph_objs as go\n",
    "\n",
    "# Load data\n",
    "title_basics_path = \"title.basics.tsv.gz\"\n",
    "title_ratings_path = \"title.ratings.tsv.gz\"\n",
    "\n",
    "basics = pd.read_csv(title_basics_path, sep=\"\\t\", compression=\"gzip\", dtype=str, na_values=\"\\\\N\")\n",
    "ratings = pd.read_csv(title_ratings_path, sep=\"\\t\", compression=\"gzip\", dtype={\"tconst\": str, \"averageRating\": float, \"numVotes\": int})\n",
    "\n",
    "# Filter for movies with valid year and genres\n",
    "movies = basics[(basics[\"titleType\"] == \"movie\") & basics[\"startYear\"].notna() & basics[\"genres\"].notna()]\n",
    "movies[\"startYear\"] = pd.to_numeric(movies[\"startYear\"], errors=\"coerce\")\n",
    "movies = movies[movies[\"startYear\"].between(1990, 2024)]\n",
    "\n",
    "# Merge with ratings\n",
    "movies = pd.merge(movies, ratings, on=\"tconst\")\n",
    "\n",
    "# Explode genres\n",
    "movies[\"genres\"] = movies[\"genres\"].str.split(\",\")\n",
    "movies = movies.explode(\"genres\")\n",
    "\n",
    "# Bayesian average calculation\n",
    "C = movies[\"averageRating\"].mean()\n",
    "m = 1000\n",
    "movies[\"bayesianRating\"] = (\n",
    "    (movies[\"numVotes\"] / (movies[\"numVotes\"] + m)) * movies[\"averageRating\"] +\n",
    "    (m / (movies[\"numVotes\"] + m)) * C\n",
    ")\n",
    "\n",
    "# Aggregate data by year and genre\n",
    "agg = movies.groupby([\"startYear\", \"genres\"]).agg({\n",
    "    \"averageRating\": \"mean\",\n",
    "    \"bayesianRating\": \"mean\",\n",
    "    \"numVotes\": \"sum\"\n",
    "}).reset_index()\n",
    "\n",
    "# Top 10 genres only\n",
    "top_genres = agg.groupby(\"genres\")[\"numVotes\"].sum().nlargest(10).index.tolist()\n",
    "agg = agg[agg[\"genres\"].isin(top_genres)]\n",
    "\n",
    "# Create dropdown options and traces\n",
    "fig = go.Figure()\n",
    "\n",
    "for genre in top_genres:\n",
    "    df = agg[agg[\"genres\"] == genre]\n",
    "\n",
    "    # Bayesian rating trace (left y-axis)\n",
    "    fig.add_trace(go.Scatter(\n",
    "        x=df[\"startYear\"], y=df[\"bayesianRating\"],\n",
    "        mode=\"lines+markers\", name=f\"{genre} Rating\",\n",
    "        visible=(genre == top_genres[0]), yaxis=\"y1\"\n",
    "    ))\n",
    "\n",
    "    # Vote count trace (right y-axis)\n",
    "    fig.add_trace(go.Scatter(\n",
    "        x=df[\"startYear\"], y=df[\"numVotes\"],\n",
    "        mode=\"lines\", name=f\"{genre} Votes\",\n",
    "        visible=(genre == top_genres[0]), yaxis=\"y2\", line=dict(dash=\"dot\")\n",
    "    ))\n",
    "\n",
    "# Dropdown menu to toggle genre\n",
    "dropdown_buttons = []\n",
    "for i, genre in enumerate(top_genres):\n",
    "    visibility = [False] * (2 * len(top_genres))\n",
    "    visibility[2*i] = True      # rating trace\n",
    "    visibility[2*i + 1] = True  # vote trace\n",
    "    dropdown_buttons.append(\n",
    "        dict(label=genre, method=\"update\", args=[{\"visible\": visibility},\n",
    "             {\"title\": f\"User Preferences Over Time – {genre}\"}])\n",
    "    )\n",
    "\n",
    "# Update layout\n",
    "fig.update_layout(\n",
    "    title=f\"User Preferences Over Time – {top_genres[0]}\",\n",
    "    xaxis=dict(title=\"Year\", rangeslider=dict(visible=True)),\n",
    "    yaxis=dict(title=\"Bayesian Rating\", side=\"left\", range=[4, 9]),\n",
    "    yaxis2=dict(title=\"Number of Votes\", overlaying=\"y\", side=\"right\"),\n",
    "    updatemenus=[dict(active=0, buttons=dropdown_buttons, x=0.1, y=1.2)],\n",
    "    height=600,\n",
    "    template=\"plotly_white\",\n",
    "    legend=dict(orientation=\"h\", y=-0.25)\n",
    ")\n",
    "\n",
    "fig.show()\n"
   ]
  }
 ],
 "metadata": {
  "kernelspec": {
   "display_name": "Python 3",
   "language": "python",
   "name": "python3"
  },
  "language_info": {
   "codemirror_mode": {
    "name": "ipython",
    "version": 3
   },
   "file_extension": ".py",
   "mimetype": "text/x-python",
   "name": "python",
   "nbconvert_exporter": "python",
   "pygments_lexer": "ipython3",
   "version": "3.11.5"
  }
 },
 "nbformat": 4,
 "nbformat_minor": 5
}
